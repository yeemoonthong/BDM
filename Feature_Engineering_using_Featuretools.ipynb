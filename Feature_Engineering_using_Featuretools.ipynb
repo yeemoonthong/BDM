{
  "nbformat": 4,
  "nbformat_minor": 0,
  "metadata": {
    "colab": {
      "provenance": [],
      "machine_shape": "hm",
      "authorship_tag": "ABX9TyOxnysk/B+z8wYSRTqU/ypX",
      "include_colab_link": true
    },
    "kernelspec": {
      "name": "python3",
      "display_name": "Python 3"
    },
    "language_info": {
      "name": "python"
    }
  },
  "cells": [
    {
      "cell_type": "markdown",
      "metadata": {
        "id": "view-in-github",
        "colab_type": "text"
      },
      "source": [
        "<a href=\"https://colab.research.google.com/github/drshahizan/BDM/blob/main/Feature_Engineering_using_Featuretools.ipynb\" target=\"_parent\"><img src=\"https://colab.research.google.com/assets/colab-badge.svg\" alt=\"Open In Colab\"/></a>"
      ]
    },
    {
      "cell_type": "markdown",
      "source": [
        "#Feature Engineering using Featuretools"
      ],
      "metadata": {
        "id": "OPfyU3K51ldN"
      }
    },
    {
      "cell_type": "code",
      "source": [
        "from google.colab import drive\n",
        "drive.mount('/content/gdrive')"
      ],
      "metadata": {
        "colab": {
          "base_uri": "https://localhost:8080/"
        },
        "id": "4Rb6k_xvhDcn",
        "outputId": "8bb39712-20ce-44c9-c116-185e4ad4ca5c"
      },
      "execution_count": 5,
      "outputs": [
        {
          "output_type": "stream",
          "name": "stdout",
          "text": [
            "Mounted at /content/gdrive\n"
          ]
        }
      ]
    },
    {
      "cell_type": "code",
      "source": [
        "import os\n",
        "os.environ['KAGGLE_CONFIG_DIR'] = \"/content/drive/My Drive/Kaggle\""
      ],
      "metadata": {
        "id": "GD3eQiY7hMK-"
      },
      "execution_count": 6,
      "outputs": []
    },
    {
      "cell_type": "code",
      "source": [
        "os.environ['KAGGLE_CONFIG_DIR'] = \"/content/drive/My Drive/Kaggle\"\n"
      ],
      "metadata": {
        "id": "PtGf5jejhtcX"
      },
      "execution_count": 11,
      "outputs": []
    },
    {
      "cell_type": "code",
      "source": [
        "import os\n",
        "os.environ['KAGGLE_CONFIG_DIR'] = \"/content/gdrive/My Drive/Kaggle\"\n"
      ],
      "metadata": {
        "id": "eF39TZaEhlp_"
      },
      "execution_count": 13,
      "outputs": []
    },
    {
      "cell_type": "code",
      "source": [
        "!kaggle datasets download -d elemento/nyc-yellow-taxi-trip-data"
      ],
      "metadata": {
        "colab": {
          "base_uri": "https://localhost:8080/"
        },
        "id": "CC6salpEhUEP",
        "outputId": "54608415-241c-4b60-d550-3c09b562d3a2"
      },
      "execution_count": 14,
      "outputs": [
        {
          "output_type": "stream",
          "name": "stdout",
          "text": [
            "Downloading nyc-yellow-taxi-trip-data.zip to /content\n",
            " 99% 1.77G/1.78G [00:09<00:00, 253MB/s]\n",
            "100% 1.78G/1.78G [00:10<00:00, 191MB/s]\n"
          ]
        }
      ]
    },
    {
      "cell_type": "code",
      "source": [
        "!unzip \\*.zip  && rm *.zip"
      ],
      "metadata": {
        "colab": {
          "base_uri": "https://localhost:8080/"
        },
        "id": "a4w5IvqehcUo",
        "outputId": "4d550259-1020-44c2-bb87-09a8edbd2824"
      },
      "execution_count": 15,
      "outputs": [
        {
          "output_type": "stream",
          "name": "stdout",
          "text": [
            "Archive:  nyc-yellow-taxi-trip-data.zip\n",
            "  inflating: yellow_tripdata_2015-01.csv  \n",
            "  inflating: yellow_tripdata_2016-01.csv  \n",
            "  inflating: yellow_tripdata_2016-02.csv  \n",
            "  inflating: yellow_tripdata_2016-03.csv  \n"
          ]
        }
      ]
    },
    {
      "cell_type": "code",
      "source": [
        "!ls"
      ],
      "metadata": {
        "colab": {
          "base_uri": "https://localhost:8080/"
        },
        "id": "DMQO7n44iRss",
        "outputId": "07eb679e-d5f1-45d1-8579-b5ec847ede94"
      },
      "execution_count": 16,
      "outputs": [
        {
          "output_type": "stream",
          "name": "stdout",
          "text": [
            "drive\tsample_data\t\t     yellow_tripdata_2016-01.csv  yellow_tripdata_2016-03.csv\n",
            "gdrive\tyellow_tripdata_2015-01.csv  yellow_tripdata_2016-02.csv\n"
          ]
        }
      ]
    },
    {
      "cell_type": "code",
      "source": [
        "!pip install featuretools\n",
        "import featuretools as ft\n",
        "import numpy as np\n",
        "import pandas as pd\n"
      ],
      "metadata": {
        "colab": {
          "base_uri": "https://localhost:8080/"
        },
        "id": "is06DM4JiV6V",
        "outputId": "fda2f311-1a37-4a86-ef2a-765daf6dee9e"
      },
      "execution_count": 32,
      "outputs": [
        {
          "output_type": "stream",
          "name": "stdout",
          "text": [
            "Requirement already satisfied: featuretools in /usr/local/lib/python3.10/dist-packages (1.28.0)\n",
            "Requirement already satisfied: cloudpickle>=1.5.0 in /usr/local/lib/python3.10/dist-packages (from featuretools) (2.2.1)\n",
            "Requirement already satisfied: holidays<0.33,>=0.13 in /usr/local/lib/python3.10/dist-packages (from featuretools) (0.32)\n",
            "Requirement already satisfied: numpy>=1.21.0 in /usr/local/lib/python3.10/dist-packages (from featuretools) (1.23.5)\n",
            "Requirement already satisfied: packaging>=20.0 in /usr/local/lib/python3.10/dist-packages (from featuretools) (23.2)\n",
            "Requirement already satisfied: pandas>=1.5.0 in /usr/local/lib/python3.10/dist-packages (from featuretools) (1.5.3)\n",
            "Requirement already satisfied: psutil>=5.6.6 in /usr/local/lib/python3.10/dist-packages (from featuretools) (5.9.5)\n",
            "Requirement already satisfied: scipy>=1.10.0 in /usr/local/lib/python3.10/dist-packages (from featuretools) (1.11.3)\n",
            "Requirement already satisfied: tqdm>=4.32.0 in /usr/local/lib/python3.10/dist-packages (from featuretools) (4.66.1)\n",
            "Requirement already satisfied: woodwork>=0.23.0 in /usr/local/lib/python3.10/dist-packages (from featuretools) (0.26.0)\n",
            "Requirement already satisfied: python-dateutil in /usr/local/lib/python3.10/dist-packages (from holidays<0.33,>=0.13->featuretools) (2.8.2)\n",
            "Requirement already satisfied: pytz>=2020.1 in /usr/local/lib/python3.10/dist-packages (from pandas>=1.5.0->featuretools) (2023.3.post1)\n",
            "Requirement already satisfied: scikit-learn>=0.22 in /usr/local/lib/python3.10/dist-packages (from woodwork>=0.23.0->featuretools) (1.2.2)\n",
            "Requirement already satisfied: importlib-resources>=5.10.0 in /usr/local/lib/python3.10/dist-packages (from woodwork>=0.23.0->featuretools) (6.1.1)\n",
            "Requirement already satisfied: six>=1.5 in /usr/local/lib/python3.10/dist-packages (from python-dateutil->holidays<0.33,>=0.13->featuretools) (1.16.0)\n",
            "Requirement already satisfied: joblib>=1.1.1 in /usr/local/lib/python3.10/dist-packages (from scikit-learn>=0.22->woodwork>=0.23.0->featuretools) (1.3.2)\n",
            "Requirement already satisfied: threadpoolctl>=2.0.0 in /usr/local/lib/python3.10/dist-packages (from scikit-learn>=0.22->woodwork>=0.23.0->featuretools) (3.2.0)\n"
          ]
        }
      ]
    },
    {
      "cell_type": "code",
      "source": [
        "df = pd.read_csv('/content/yellow_tripdata_2015-01.csv')\n"
      ],
      "metadata": {
        "id": "pKZ1AJaBoz1q"
      },
      "execution_count": 37,
      "outputs": []
    },
    {
      "cell_type": "markdown",
      "source": [],
      "metadata": {
        "id": "3rZskHgx2CYx"
      }
    },
    {
      "cell_type": "code",
      "source": [
        "!pip install matplotlib seaborn\n"
      ],
      "metadata": {
        "colab": {
          "base_uri": "https://localhost:8080/"
        },
        "id": "M1AbgOhHzYd8",
        "outputId": "4f440b76-1b91-4d22-8a20-f758e0f17aa5"
      },
      "execution_count": 38,
      "outputs": [
        {
          "output_type": "stream",
          "name": "stdout",
          "text": [
            "Requirement already satisfied: matplotlib in /usr/local/lib/python3.10/dist-packages (3.7.1)\n",
            "Requirement already satisfied: seaborn in /usr/local/lib/python3.10/dist-packages (0.12.2)\n",
            "Requirement already satisfied: contourpy>=1.0.1 in /usr/local/lib/python3.10/dist-packages (from matplotlib) (1.2.0)\n",
            "Requirement already satisfied: cycler>=0.10 in /usr/local/lib/python3.10/dist-packages (from matplotlib) (0.12.1)\n",
            "Requirement already satisfied: fonttools>=4.22.0 in /usr/local/lib/python3.10/dist-packages (from matplotlib) (4.44.3)\n",
            "Requirement already satisfied: kiwisolver>=1.0.1 in /usr/local/lib/python3.10/dist-packages (from matplotlib) (1.4.5)\n",
            "Requirement already satisfied: numpy>=1.20 in /usr/local/lib/python3.10/dist-packages (from matplotlib) (1.23.5)\n",
            "Requirement already satisfied: packaging>=20.0 in /usr/local/lib/python3.10/dist-packages (from matplotlib) (23.2)\n",
            "Requirement already satisfied: pillow>=6.2.0 in /usr/local/lib/python3.10/dist-packages (from matplotlib) (9.4.0)\n",
            "Requirement already satisfied: pyparsing>=2.3.1 in /usr/local/lib/python3.10/dist-packages (from matplotlib) (3.1.1)\n",
            "Requirement already satisfied: python-dateutil>=2.7 in /usr/local/lib/python3.10/dist-packages (from matplotlib) (2.8.2)\n",
            "Requirement already satisfied: pandas>=0.25 in /usr/local/lib/python3.10/dist-packages (from seaborn) (1.5.3)\n",
            "Requirement already satisfied: pytz>=2020.1 in /usr/local/lib/python3.10/dist-packages (from pandas>=0.25->seaborn) (2023.3.post1)\n",
            "Requirement already satisfied: six>=1.5 in /usr/local/lib/python3.10/dist-packages (from python-dateutil>=2.7->matplotlib) (1.16.0)\n"
          ]
        }
      ]
    },
    {
      "cell_type": "code",
      "source": [
        "es = ft.EntitySet(id=\"trips\")\n",
        "\n",
        "es = es.add_dataframe(\n",
        "    dataframe_name=\"taxi_data\",\n",
        "    dataframe=df,\n",
        "    index=\"trip_index\",\n",
        "    make_index=True\n",
        ")\n",
        "\n",
        "es.plot()\n"
      ],
      "metadata": {
        "colab": {
          "base_uri": "https://localhost:8080/",
          "height": 474
        },
        "id": "pZ4-VLx7lEp8",
        "outputId": "d4099bb9-ff4f-4555-fca7-395161dfe0cb"
      },
      "execution_count": 39,
      "outputs": [
        {
          "output_type": "execute_result",
          "data": {
            "image/svg+xml": "<?xml version=\"1.0\" encoding=\"UTF-8\" standalone=\"no\"?>\n<!DOCTYPE svg PUBLIC \"-//W3C//DTD SVG 1.1//EN\"\n \"http://www.w3.org/Graphics/SVG/1.1/DTD/svg11.dtd\">\n<!-- Generated by graphviz version 2.43.0 (0)\n -->\n<!-- Title: trips Pages: 1 -->\n<svg width=\"211pt\" height=\"340pt\"\n viewBox=\"0.00 0.00 211.00 340.00\" xmlns=\"http://www.w3.org/2000/svg\" xmlns:xlink=\"http://www.w3.org/1999/xlink\">\n<g id=\"graph0\" class=\"graph\" transform=\"scale(1 1) rotate(0) translate(4 336)\">\n<title>trips</title>\n<polygon fill=\"white\" stroke=\"transparent\" points=\"-4,4 -4,-336 207,-336 207,4 -4,4\"/>\n<!-- taxi_data -->\n<g id=\"node1\" class=\"node\">\n<title>taxi_data</title>\n<polygon fill=\"none\" stroke=\"black\" points=\"0,-0.5 0,-331.5 203,-331.5 203,-0.5 0,-0.5\"/>\n<text text-anchor=\"middle\" x=\"101.5\" y=\"-316.3\" font-family=\"Times,serif\" font-size=\"14.00\">taxi_data (12748986 rows)</text>\n<polyline fill=\"none\" stroke=\"black\" points=\"0,-308.5 203,-308.5 \"/>\n<text text-anchor=\"start\" x=\"8\" y=\"-293.3\" font-family=\"Times,serif\" font-size=\"14.00\">trip_index : Integer; index</text>\n<text text-anchor=\"start\" x=\"8\" y=\"-278.3\" font-family=\"Times,serif\" font-size=\"14.00\">VendorID : Integer</text>\n<text text-anchor=\"start\" x=\"8\" y=\"-263.3\" font-family=\"Times,serif\" font-size=\"14.00\">tpep_pickup_datetime : Datetime</text>\n<text text-anchor=\"start\" x=\"8\" y=\"-248.3\" font-family=\"Times,serif\" font-size=\"14.00\">tpep_dropoff_datetime : Datetime</text>\n<text text-anchor=\"start\" x=\"8\" y=\"-233.3\" font-family=\"Times,serif\" font-size=\"14.00\">passenger_count : Integer</text>\n<text text-anchor=\"start\" x=\"8\" y=\"-218.3\" font-family=\"Times,serif\" font-size=\"14.00\">trip_distance : Double</text>\n<text text-anchor=\"start\" x=\"8\" y=\"-203.3\" font-family=\"Times,serif\" font-size=\"14.00\">pickup_longitude : Double</text>\n<text text-anchor=\"start\" x=\"8\" y=\"-188.3\" font-family=\"Times,serif\" font-size=\"14.00\">pickup_latitude : Double</text>\n<text text-anchor=\"start\" x=\"8\" y=\"-173.3\" font-family=\"Times,serif\" font-size=\"14.00\">RateCodeID : Integer</text>\n<text text-anchor=\"start\" x=\"8\" y=\"-158.3\" font-family=\"Times,serif\" font-size=\"14.00\">store_and_fwd_flag : Boolean</text>\n<text text-anchor=\"start\" x=\"8\" y=\"-143.3\" font-family=\"Times,serif\" font-size=\"14.00\">dropoff_longitude : Double</text>\n<text text-anchor=\"start\" x=\"8\" y=\"-128.3\" font-family=\"Times,serif\" font-size=\"14.00\">dropoff_latitude : Double</text>\n<text text-anchor=\"start\" x=\"8\" y=\"-113.3\" font-family=\"Times,serif\" font-size=\"14.00\">payment_type : Integer</text>\n<text text-anchor=\"start\" x=\"8\" y=\"-98.3\" font-family=\"Times,serif\" font-size=\"14.00\">fare_amount : Double</text>\n<text text-anchor=\"start\" x=\"8\" y=\"-83.3\" font-family=\"Times,serif\" font-size=\"14.00\">extra : Double</text>\n<text text-anchor=\"start\" x=\"8\" y=\"-68.3\" font-family=\"Times,serif\" font-size=\"14.00\">mta_tax : Double</text>\n<text text-anchor=\"start\" x=\"8\" y=\"-53.3\" font-family=\"Times,serif\" font-size=\"14.00\">tip_amount : Double</text>\n<text text-anchor=\"start\" x=\"8\" y=\"-38.3\" font-family=\"Times,serif\" font-size=\"14.00\">tolls_amount : Double</text>\n<text text-anchor=\"start\" x=\"8\" y=\"-23.3\" font-family=\"Times,serif\" font-size=\"14.00\">improvement_surcharge : Double</text>\n<text text-anchor=\"start\" x=\"8\" y=\"-8.3\" font-family=\"Times,serif\" font-size=\"14.00\">total_amount : Double</text>\n</g>\n</g>\n</svg>\n",
            "text/plain": [
              "<graphviz.graphs.Digraph at 0x7aeefb57bac0>"
            ]
          },
          "metadata": {},
          "execution_count": 39
        }
      ]
    },
    {
      "cell_type": "code",
      "source": [
        "es = ft.EntitySet(id=\"trips\")\n"
      ],
      "metadata": {
        "id": "9w7_zqodtXuh"
      },
      "execution_count": 40,
      "outputs": []
    },
    {
      "cell_type": "code",
      "source": [
        "es = es.add_dataframe(\n",
        "    dataframe_name=\"taxi_data\",\n",
        "    dataframe=df,\n",
        "    index=\"trip_index\",\n",
        "    make_index=True,\n",
        "    time_index=\"tpep_pickup_datetime\"\n",
        ")\n"
      ],
      "metadata": {
        "colab": {
          "base_uri": "https://localhost:8080/"
        },
        "id": "uP0zH9FctkMn",
        "outputId": "44bd9153-ba19-4d3a-e31c-f7eb77e4b951"
      },
      "execution_count": 41,
      "outputs": [
        {
          "output_type": "stream",
          "name": "stderr",
          "text": [
            "/usr/local/lib/python3.10/dist-packages/featuretools/entityset/entityset.py:754: UserWarning: A Woodwork-initialized DataFrame was provided, so the following parameters were ignored: index, time_index, make_index\n",
            "  warnings.warn(\n"
          ]
        }
      ]
    },
    {
      "cell_type": "code",
      "source": [
        "feature_matrix, feature_defs = ft.dfs(\n",
        "    entityset=es,\n",
        "    target_dataframe_name=\"taxi_data\",\n",
        "    verbose=True,\n",
        "    max_depth=2\n",
        ")\n"
      ],
      "metadata": {
        "colab": {
          "base_uri": "https://localhost:8080/"
        },
        "id": "_0ouq7fstlqg",
        "outputId": "9d3eaa4d-b251-45bc-d6e7-b51316020f3a"
      },
      "execution_count": 42,
      "outputs": [
        {
          "output_type": "stream",
          "name": "stderr",
          "text": [
            "/usr/local/lib/python3.10/dist-packages/featuretools/synthesis/deep_feature_synthesis.py:169: UserWarning: Only one dataframe in entityset, changing max_depth to 1 since deeper features cannot be created\n",
            "  warnings.warn(\n"
          ]
        },
        {
          "output_type": "stream",
          "name": "stdout",
          "text": [
            "Built 25 features\n",
            "Elapsed: 04:22 | Progress: 100%|██████████\n"
          ]
        }
      ]
    },
    {
      "cell_type": "code",
      "source": [
        "import matplotlib.pyplot as plt\n",
        "import seaborn as sns\n",
        "\n",
        "# Extract the hour of the day from the pickup datetime\n",
        "df['pickup_hour'] = df['tpep_pickup_datetime'].dt.hour\n",
        "\n",
        "# Set the size of the plot\n",
        "plt.figure(figsize=(10, 6))\n",
        "\n",
        "# Create a count plot of trips by hour of the day\n",
        "sns.countplot(df['pickup_hour'])\n",
        "\n",
        "# Set the title and labels of the plot\n",
        "plt.title('Number of Trips by Hour of the Day')\n",
        "plt.xlabel('Hour of the Day')\n",
        "plt.ylabel('Number of Trips')\n",
        "\n",
        "# Display the plot\n",
        "plt.show()\n"
      ],
      "metadata": {
        "colab": {
          "base_uri": "https://localhost:8080/",
          "height": 564
        },
        "id": "nTdLm8bvxXNe",
        "outputId": "371a8716-a888-431e-df7b-8462cc93f714"
      },
      "execution_count": 43,
      "outputs": [
        {
          "output_type": "display_data",
          "data": {
            "text/plain": [
              "<Figure size 1000x600 with 1 Axes>"
            ],
            "image/png": "[encoded data removed]"
          },
          "metadata": {}
        }
      ]
    },
    {
      "cell_type": "code",
      "source": [
        "# Example: Calculate the average distance by number of passengers\n",
        "avg_distance_by_passenger = df.groupby('passenger_count')['trip_distance'].mean()\n",
        "print(avg_distance_by_passenger)\n"
      ],
      "metadata": {
        "colab": {
          "base_uri": "https://localhost:8080/"
        },
        "id": "3LuFpTkNyiYb",
        "outputId": "4989df6c-0bd9-4b60-90c8-1e90eb156437"
      },
      "execution_count": 44,
      "outputs": [
        {
          "output_type": "stream",
          "name": "stdout",
          "text": [
            "passenger_count\n",
            "0     2.162647\n",
            "1    14.826122\n",
            "2    18.040789\n",
            "3     2.852763\n",
            "4     2.871686\n",
            "5     2.856184\n",
            "6     2.788518\n",
            "7     2.566667\n",
            "8     2.179000\n",
            "9     7.269091\n",
            "Name: trip_distance, dtype: float64\n"
          ]
        }
      ]
    },
    {
      "cell_type": "code",
      "source": [
        "feature_matrix.to_csv('/content/feature_matrix.csv')\n"
      ],
      "metadata": {
        "id": "_RK2tNOjt5CB"
      },
      "execution_count": 45,
      "outputs": []
    }
  ]
}