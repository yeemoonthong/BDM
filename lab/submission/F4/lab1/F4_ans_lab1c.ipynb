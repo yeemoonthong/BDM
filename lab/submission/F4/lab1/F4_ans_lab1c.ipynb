{
  "nbformat": 4,
  "nbformat_minor": 0,
  "metadata": {
    "colab": {
      "provenance": [],
      "include_colab_link": true
    },
    "kernelspec": {
      "name": "python3",
      "display_name": "Python 3"
    },
    "language_info": {
      "name": "python"
    }
  },
  "cells": [
    {
      "cell_type": "markdown",
      "metadata": {
        "id": "view-in-github",
        "colab_type": "text"
      },
      "source": [
        "<a href=\"https://colab.research.google.com/github/drshahizan/BDM/blob/main/lab/submission/F4/lab1/F4_ans_lab1c.ipynb\" target=\"_parent\"><img src=\"https://colab.research.google.com/assets/colab-badge.svg\" alt=\"Open In Colab\"/></a>"
      ]
    },
    {
      "cell_type": "markdown",
      "source": [
        "# Lab 1c - Understanding Your Data"
      ],
      "metadata": {
        "id": "sc-InfyoiPNN"
      }
    },
    {
      "cell_type": "markdown",
      "source": [
        "Please use the [**Open Food Facts**](https://www.kaggle.com/openfoodfacts/world-food-facts/data) dataset for this exercise."
      ],
      "metadata": {
        "id": "WMgvakujiaan"
      }
    },
    {
      "cell_type": "markdown",
      "source": [
        "### Step 1. Download the dataset to your computer and unzip it."
      ],
      "metadata": {
        "id": "pziuucAdic4O"
      }
    },
    {
      "cell_type": "markdown",
      "source": [
        "### Step 2. Use the tsv file and assign it to a dataframe called food"
      ],
      "metadata": {
        "id": "dPQovSNrirmT"
      }
    },
    {
      "cell_type": "code",
      "source": [
        "!pip install pandas\n",
        "!pip install numpy"
      ],
      "metadata": {
        "colab": {
          "base_uri": "https://localhost:8080/"
        },
        "id": "z-CScy_Scm85",
        "outputId": "5e64bc6f-543d-44c0-b103-86b510b8ba74"
      },
      "execution_count": 2,
      "outputs": [
        {
          "output_type": "stream",
          "name": "stdout",
          "text": [
            "Requirement already satisfied: pandas in /usr/local/lib/python3.10/dist-packages (1.5.3)\n",
            "Requirement already satisfied: python-dateutil>=2.8.1 in /usr/local/lib/python3.10/dist-packages (from pandas) (2.8.2)\n",
            "Requirement already satisfied: pytz>=2020.1 in /usr/local/lib/python3.10/dist-packages (from pandas) (2023.3.post1)\n",
            "Requirement already satisfied: numpy>=1.21.0 in /usr/local/lib/python3.10/dist-packages (from pandas) (1.23.5)\n",
            "Requirement already satisfied: six>=1.5 in /usr/local/lib/python3.10/dist-packages (from python-dateutil>=2.8.1->pandas) (1.16.0)\n",
            "Requirement already satisfied: numpy in /usr/local/lib/python3.10/dist-packages (1.23.5)\n"
          ]
        }
      ]
    },
    {
      "cell_type": "code",
      "source": [
        "from google.colab import drive\n",
        "drive.mount('/content/drive')"
      ],
      "metadata": {
        "colab": {
          "base_uri": "https://localhost:8080/"
        },
        "id": "eoN-IIckd3yV",
        "outputId": "6dc5f388-5b9c-4e04-8bcb-e40d34000160"
      },
      "execution_count": 3,
      "outputs": [
        {
          "output_type": "stream",
          "name": "stdout",
          "text": [
            "Mounted at /content/drive\n"
          ]
        }
      ]
    },
    {
      "cell_type": "code",
      "source": [
        "import pandas as pd\n",
        "file_path = '/content/drive/MyDrive/Colab Notebooks/en.openfoodfacts.org.products.tsv'\n",
        "food = pd.read_csv(file_path, sep=\"\\t\", low_memory=False)\n"
      ],
      "metadata": {
        "id": "kbvzufO2cmUW"
      },
      "execution_count": 4,
      "outputs": []
    },
    {
      "cell_type": "markdown",
      "source": [
        "### Step 3. See the first 5 entries"
      ],
      "metadata": {
        "id": "c1WmZJQYi0JU"
      }
    },
    {
      "cell_type": "code",
      "source": [
        "print(food.head(5))"
      ],
      "metadata": {
        "colab": {
          "base_uri": "https://localhost:8080/"
        },
        "id": "ATIbxnqLdB5E",
        "outputId": "47bc0e21-3266-410f-81d4-f0433758ba41"
      },
      "execution_count": 5,
      "outputs": [
        {
          "output_type": "stream",
          "name": "stdout",
          "text": [
            "            code                                                url  \\\n",
            "0  0000000003087  http://world-en.openfoodfacts.org/product/0000...   \n",
            "1  0000000004530  http://world-en.openfoodfacts.org/product/0000...   \n",
            "2  0000000004559  http://world-en.openfoodfacts.org/product/0000...   \n",
            "3  0000000016087  http://world-en.openfoodfacts.org/product/0000...   \n",
            "4  0000000016094  http://world-en.openfoodfacts.org/product/0000...   \n",
            "\n",
            "                      creator   created_t      created_datetime  \\\n",
            "0  openfoodfacts-contributors  1474103866  2016-09-17T09:17:46Z   \n",
            "1             usda-ndb-import  1489069957  2017-03-09T14:32:37Z   \n",
            "2             usda-ndb-import  1489069957  2017-03-09T14:32:37Z   \n",
            "3             usda-ndb-import  1489055731  2017-03-09T10:35:31Z   \n",
            "4             usda-ndb-import  1489055653  2017-03-09T10:34:13Z   \n",
            "\n",
            "  last_modified_t last_modified_datetime                    product_name  \\\n",
            "0      1474103893   2016-09-17T09:18:13Z              Farine de blé noir   \n",
            "1      1489069957   2017-03-09T14:32:37Z  Banana Chips Sweetened (Whole)   \n",
            "2      1489069957   2017-03-09T14:32:37Z                         Peanuts   \n",
            "3      1489055731   2017-03-09T10:35:31Z          Organic Salted Nut Mix   \n",
            "4      1489055653   2017-03-09T10:34:13Z                 Organic Polenta   \n",
            "\n",
            "  generic_name quantity  ... fruits-vegetables-nuts_100g  \\\n",
            "0          NaN      1kg  ...                         NaN   \n",
            "1          NaN      NaN  ...                         NaN   \n",
            "2          NaN      NaN  ...                         NaN   \n",
            "3          NaN      NaN  ...                         NaN   \n",
            "4          NaN      NaN  ...                         NaN   \n",
            "\n",
            "  fruits-vegetables-nuts-estimate_100g collagen-meat-protein-ratio_100g  \\\n",
            "0                                  NaN                              NaN   \n",
            "1                                  NaN                              NaN   \n",
            "2                                  NaN                              NaN   \n",
            "3                                  NaN                              NaN   \n",
            "4                                  NaN                              NaN   \n",
            "\n",
            "  cocoa_100g chlorophyl_100g carbon-footprint_100g nutrition-score-fr_100g  \\\n",
            "0        NaN             NaN                   NaN                     NaN   \n",
            "1        NaN             NaN                   NaN                    14.0   \n",
            "2        NaN             NaN                   NaN                     0.0   \n",
            "3        NaN             NaN                   NaN                    12.0   \n",
            "4        NaN             NaN                   NaN                     NaN   \n",
            "\n",
            "  nutrition-score-uk_100g glycemic-index_100g water-hardness_100g  \n",
            "0                     NaN                 NaN                 NaN  \n",
            "1                    14.0                 NaN                 NaN  \n",
            "2                     0.0                 NaN                 NaN  \n",
            "3                    12.0                 NaN                 NaN  \n",
            "4                     NaN                 NaN                 NaN  \n",
            "\n",
            "[5 rows x 163 columns]\n"
          ]
        }
      ]
    },
    {
      "cell_type": "markdown",
      "source": [
        "### Step 4. What is the number of observations in the dataset?"
      ],
      "metadata": {
        "id": "kKgKHoZei441"
      }
    },
    {
      "cell_type": "code",
      "source": [
        "num_observations = food.shape[0]\n",
        "print(f\"The number of observations in the dataset is: {num_observations}\")\n"
      ],
      "metadata": {
        "colab": {
          "base_uri": "https://localhost:8080/"
        },
        "id": "fzJVlnk5ibkk",
        "outputId": "362a6566-d705-47aa-9088-a3773684f731"
      },
      "execution_count": 6,
      "outputs": [
        {
          "output_type": "stream",
          "name": "stdout",
          "text": [
            "The number of observations in the dataset is: 356027\n"
          ]
        }
      ]
    },
    {
      "cell_type": "markdown",
      "source": [
        "### Step 5. What is the number of columns in the dataset?"
      ],
      "metadata": {
        "id": "Htbxk0Xxjfwt"
      }
    },
    {
      "cell_type": "code",
      "source": [
        "Number_of_column = food.shape[1]\n",
        "print(f\"Number of Columns: {Number_of_column}\")"
      ],
      "metadata": {
        "colab": {
          "base_uri": "https://localhost:8080/"
        },
        "id": "V0yOkDp7jgPH",
        "outputId": "a6c87568-486b-4d52-c500-2e39bc4d9c2b"
      },
      "execution_count": 7,
      "outputs": [
        {
          "output_type": "stream",
          "name": "stdout",
          "text": [
            "Number of Columns: 163\n"
          ]
        }
      ]
    },
    {
      "cell_type": "markdown",
      "source": [
        "### Step 6. Print the name of all the columns."
      ],
      "metadata": {
        "id": "GgnrJCI7jyXL"
      }
    },
    {
      "cell_type": "code",
      "source": [
        "print(food.columns)"
      ],
      "metadata": {
        "colab": {
          "base_uri": "https://localhost:8080/"
        },
        "id": "oCbJnn4MkGpr",
        "outputId": "0c106004-200f-4a68-f4b8-e5cb0af58da3"
      },
      "execution_count": 8,
      "outputs": [
        {
          "output_type": "stream",
          "name": "stdout",
          "text": [
            "Index(['code', 'url', 'creator', 'created_t', 'created_datetime',\n",
            "       'last_modified_t', 'last_modified_datetime', 'product_name',\n",
            "       'generic_name', 'quantity',\n",
            "       ...\n",
            "       'fruits-vegetables-nuts_100g', 'fruits-vegetables-nuts-estimate_100g',\n",
            "       'collagen-meat-protein-ratio_100g', 'cocoa_100g', 'chlorophyl_100g',\n",
            "       'carbon-footprint_100g', 'nutrition-score-fr_100g',\n",
            "       'nutrition-score-uk_100g', 'glycemic-index_100g',\n",
            "       'water-hardness_100g'],\n",
            "      dtype='object', length=163)\n"
          ]
        }
      ]
    },
    {
      "cell_type": "markdown",
      "source": [
        "### Step 7. What is the name of 105th column?"
      ],
      "metadata": {
        "id": "Z4_0yQ0xj0Tb"
      }
    },
    {
      "cell_type": "code",
      "source": [
        "column_name_105th = food.columns[104]\n",
        "\n",
        "print(f\"The name of the 105th column is: {column_name_105th}\")\n"
      ],
      "metadata": {
        "colab": {
          "base_uri": "https://localhost:8080/"
        },
        "id": "Q4R4breNlH_r",
        "outputId": "c4f62d29-978f-482f-c409-3bbdb1cb9daf"
      },
      "execution_count": 9,
      "outputs": [
        {
          "output_type": "stream",
          "name": "stdout",
          "text": [
            "The name of the 105th column is: -glucose_100g\n"
          ]
        }
      ]
    },
    {
      "cell_type": "markdown",
      "source": [
        "### Step 8. What is the type of the observations of the 105th column?"
      ],
      "metadata": {
        "id": "Oh03U69Fj0at"
      }
    },
    {
      "cell_type": "code",
      "source": [
        "column_105_data_type = food.iloc[:, 104].dtype\n",
        "\n",
        "print(f\"The data type of the observations in the 105th column is: {column_105_data_type}\")\n"
      ],
      "metadata": {
        "colab": {
          "base_uri": "https://localhost:8080/"
        },
        "id": "Y_3ijbjmlQrL",
        "outputId": "e24d0840-0597-4d38-d41f-41781696fc67"
      },
      "execution_count": 10,
      "outputs": [
        {
          "output_type": "stream",
          "name": "stdout",
          "text": [
            "The data type of the observations in the 105th column is: float64\n"
          ]
        }
      ]
    },
    {
      "cell_type": "markdown",
      "source": [
        "### Step 9. How is the dataset indexed?"
      ],
      "metadata": {
        "id": "_imLMTzDj0oK"
      }
    },
    {
      "cell_type": "code",
      "source": [
        "# Check the index type\n",
        "if food.index.equals(pd.RangeIndex(start=0, stop=len(food))):\n",
        "    print(\"The dataset is indexed using the default integer-based row index.\")\n",
        "else:\n",
        "    print(\"The dataset is indexed using one or more user-defined columns as the index.\")\n",
        "food.index"
      ],
      "metadata": {
        "colab": {
          "base_uri": "https://localhost:8080/"
        },
        "id": "e1nS45W7lYns",
        "outputId": "e3fc4922-1532-4fe9-ba5d-8478858a597f"
      },
      "execution_count": 11,
      "outputs": [
        {
          "output_type": "stream",
          "name": "stdout",
          "text": [
            "The dataset is indexed using the default integer-based row index.\n"
          ]
        },
        {
          "output_type": "execute_result",
          "data": {
            "text/plain": [
              "RangeIndex(start=0, stop=356027, step=1)"
            ]
          },
          "metadata": {},
          "execution_count": 11
        }
      ]
    },
    {
      "cell_type": "markdown",
      "source": [
        "### Step 10. What is the product name of the 19th observation?"
      ],
      "metadata": {
        "id": "CRRQ0pE9j8tX"
      }
    },
    {
      "cell_type": "code",
      "source": [
        "product_name_19th_observation = food.loc[18, \"product_name\"]\n",
        "print(f\"The product name of the 19th observation is: {product_name_19th_observation}\")\n"
      ],
      "metadata": {
        "colab": {
          "base_uri": "https://localhost:8080/"
        },
        "id": "DSCgXMVHkE5-",
        "outputId": "e8cdacf8-af1b-4ca8-ff5d-801e54127c61"
      },
      "execution_count": 12,
      "outputs": [
        {
          "output_type": "stream",
          "name": "stdout",
          "text": [
            "The product name of the 19th observation is: Lotus Organic Brown Jasmine Rice\n"
          ]
        }
      ]
    }
  ]
}