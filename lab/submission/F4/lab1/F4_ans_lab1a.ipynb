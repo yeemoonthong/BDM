{
  "cells": [
    {
      "cell_type": "markdown",
      "metadata": {
        "id": "KgR5MuG-hB1X"
      },
      "source": [
        "# Lab 1a - Understanding Your Data"
      ]
    },
    {
      "cell_type": "markdown",
      "metadata": {
        "id": "yF_9o9HshB1i"
      },
      "source": [
        "Please use the [**Chipotle Sales dataset**](https://raw.githubusercontent.com/drshahizan/dataset/main/pandas/chipotle.tsv) for this exercise."
      ]
    },
    {
      "cell_type": "markdown",
      "metadata": {
        "id": "-2WtnDsIhB1k"
      },
      "source": [
        "\n",
        "\n",
        "### Step 1. Import the necessary libraries"
      ]
    },
    {
      "cell_type": "code",
      "execution_count": 129,
      "metadata": {
        "id": "3EpriG3FhB1m"
      },
      "outputs": [],
      "source": [
        "import pandas as pd"
      ]
    },
    {
      "cell_type": "markdown",
      "metadata": {
        "id": "OzSZY9TwhB1o"
      },
      "source": [
        "### Step 2. Import the dataset from this [address](https://raw.githubusercontent.com/drshahizan/dataset/main/pandas/chipotle.tsv)."
      ]
    },
    {
      "cell_type": "markdown",
      "metadata": {
        "id": "EzA8xSn7hB1q"
      },
      "source": [
        "### Step 3. Assign it to a variable called chipo."
      ]
    },
    {
      "cell_type": "code",
      "execution_count": 130,
      "metadata": {
        "id": "QHm1l0JahB1r"
      },
      "outputs": [],
      "source": [
        "chipo=pd.read_table('https://raw.githubusercontent.com/drshahizan/dataset/main/pandas/chipotle.tsv',sep='\\t')"
      ]
    },
    {
      "cell_type": "markdown",
      "metadata": {
        "id": "A8T5BdtbhB1t"
      },
      "source": [
        "### Step 4. See the first 10 entries"
      ]
    },
    {
      "cell_type": "code",
      "execution_count": 131,
      "metadata": {
        "scrolled": false,
        "colab": {
          "base_uri": "https://localhost:8080/",
          "height": 363
        },
        "id": "hAGkmpGhhB1w",
        "outputId": "3a004989-12e6-445c-9639-d75cc7436a69"
      },
      "outputs": [
        {
          "output_type": "execute_result",
          "data": {
            "text/plain": [
              "   order_id  quantity                              item_name  \\\n",
              "0         1         1           Chips and Fresh Tomato Salsa   \n",
              "1         1         1                                   Izze   \n",
              "2         1         1                       Nantucket Nectar   \n",
              "3         1         1  Chips and Tomatillo-Green Chili Salsa   \n",
              "4         2         2                           Chicken Bowl   \n",
              "5         3         1                           Chicken Bowl   \n",
              "6         3         1                          Side of Chips   \n",
              "7         4         1                          Steak Burrito   \n",
              "8         4         1                       Steak Soft Tacos   \n",
              "9         5         1                          Steak Burrito   \n",
              "\n",
              "                                  choice_description item_price  \n",
              "0                                                NaN     $2.39   \n",
              "1                                       [Clementine]     $3.39   \n",
              "2                                            [Apple]     $3.39   \n",
              "3                                                NaN     $2.39   \n",
              "4  [Tomatillo-Red Chili Salsa (Hot), [Black Beans...    $16.98   \n",
              "5  [Fresh Tomato Salsa (Mild), [Rice, Cheese, Sou...    $10.98   \n",
              "6                                                NaN     $1.69   \n",
              "7  [Tomatillo Red Chili Salsa, [Fajita Vegetables...    $11.75   \n",
              "8  [Tomatillo Green Chili Salsa, [Pinto Beans, Ch...     $9.25   \n",
              "9  [Fresh Tomato Salsa, [Rice, Black Beans, Pinto...     $9.25   "
            ],
            "text/html": [
              "\n",
              "  <div id=\"df-5b270a2f-d503-4889-b194-7d848efba53e\" class=\"colab-df-container\">\n",
              "    <div>\n",
              "<style scoped>\n",
              "    .dataframe tbody tr th:only-of-type {\n",
              "        vertical-align: middle;\n",
              "    }\n",
              "\n",
              "    .dataframe tbody tr th {\n",
              "        vertical-align: top;\n",
              "    }\n",
              "\n",
              "    .dataframe thead th {\n",
              "        text-align: right;\n",
              "    }\n",
              "</style>\n",
              "<table border=\"1\" class=\"dataframe\">\n",
              "  <thead>\n",
              "    <tr style=\"text-align: right;\">\n",
              "      <th></th>\n",
              "      <th>order_id</th>\n",
              "      <th>quantity</th>\n",
              "      <th>item_name</th>\n",
              "      <th>choice_description</th>\n",
              "      <th>item_price</th>\n",
              "    </tr>\n",
              "  </thead>\n",
              "  <tbody>\n",
              "    <tr>\n",
              "      <th>0</th>\n",
              "      <td>1</td>\n",
              "      <td>1</td>\n",
              "      <td>Chips and Fresh Tomato Salsa</td>\n",
              "      <td>NaN</td>\n",
              "      <td>$2.39</td>\n",
              "    </tr>\n",
              "    <tr>\n",
              "      <th>1</th>\n",
              "      <td>1</td>\n",
              "      <td>1</td>\n",
              "      <td>Izze</td>\n",
              "      <td>[Clementine]</td>\n",
              "      <td>$3.39</td>\n",
              "    </tr>\n",
              "    <tr>\n",
              "      <th>2</th>\n",
              "      <td>1</td>\n",
              "      <td>1</td>\n",
              "      <td>Nantucket Nectar</td>\n",
              "      <td>[Apple]</td>\n",
              "      <td>$3.39</td>\n",
              "    </tr>\n",
              "    <tr>\n",
              "      <th>3</th>\n",
              "      <td>1</td>\n",
              "      <td>1</td>\n",
              "      <td>Chips and Tomatillo-Green Chili Salsa</td>\n",
              "      <td>NaN</td>\n",
              "      <td>$2.39</td>\n",
              "    </tr>\n",
              "    <tr>\n",
              "      <th>4</th>\n",
              "      <td>2</td>\n",
              "      <td>2</td>\n",
              "      <td>Chicken Bowl</td>\n",
              "      <td>[Tomatillo-Red Chili Salsa (Hot), [Black Beans...</td>\n",
              "      <td>$16.98</td>\n",
              "    </tr>\n",
              "    <tr>\n",
              "      <th>5</th>\n",
              "      <td>3</td>\n",
              "      <td>1</td>\n",
              "      <td>Chicken Bowl</td>\n",
              "      <td>[Fresh Tomato Salsa (Mild), [Rice, Cheese, Sou...</td>\n",
              "      <td>$10.98</td>\n",
              "    </tr>\n",
              "    <tr>\n",
              "      <th>6</th>\n",
              "      <td>3</td>\n",
              "      <td>1</td>\n",
              "      <td>Side of Chips</td>\n",
              "      <td>NaN</td>\n",
              "      <td>$1.69</td>\n",
              "    </tr>\n",
              "    <tr>\n",
              "      <th>7</th>\n",
              "      <td>4</td>\n",
              "      <td>1</td>\n",
              "      <td>Steak Burrito</td>\n",
              "      <td>[Tomatillo Red Chili Salsa, [Fajita Vegetables...</td>\n",
              "      <td>$11.75</td>\n",
              "    </tr>\n",
              "    <tr>\n",
              "      <th>8</th>\n",
              "      <td>4</td>\n",
              "      <td>1</td>\n",
              "      <td>Steak Soft Tacos</td>\n",
              "      <td>[Tomatillo Green Chili Salsa, [Pinto Beans, Ch...</td>\n",
              "      <td>$9.25</td>\n",
              "    </tr>\n",
              "    <tr>\n",
              "      <th>9</th>\n",
              "      <td>5</td>\n",
              "      <td>1</td>\n",
              "      <td>Steak Burrito</td>\n",
              "      <td>[Fresh Tomato Salsa, [Rice, Black Beans, Pinto...</td>\n",
              "      <td>$9.25</td>\n",
              "    </tr>\n",
              "  </tbody>\n",
              "</table>\n",
              "</div>\n",
              "    <div class=\"colab-df-buttons\">\n",
              "\n",
              "  <div class=\"colab-df-container\">\n",
              "    <button class=\"colab-df-convert\" onclick=\"convertToInteractive('df-5b270a2f-d503-4889-b194-7d848efba53e')\"\n",
              "            title=\"Convert this dataframe to an interactive table.\"\n",
              "            style=\"display:none;\">\n",
              "\n",
              "  <svg xmlns=\"http://www.w3.org/2000/svg\" height=\"24px\" viewBox=\"0 -960 960 960\">\n",
              "    <path d=\"M120-120v-720h720v720H120Zm60-500h600v-160H180v160Zm220 220h160v-160H400v160Zm0 220h160v-160H400v160ZM180-400h160v-160H180v160Zm440 0h160v-160H620v160ZM180-180h160v-160H180v160Zm440 0h160v-160H620v160Z\"/>\n",
              "  </svg>\n",
              "    </button>\n",
              "\n",
              "  <style>\n",
              "    .colab-df-container {\n",
              "      display:flex;\n",
              "      gap: 12px;\n",
              "    }\n",
              "\n",
              "    .colab-df-convert {\n",
              "      background-color: #E8F0FE;\n",
              "      border: none;\n",
              "      border-radius: 50%;\n",
              "      cursor: pointer;\n",
              "      display: none;\n",
              "      fill: #1967D2;\n",
              "      height: 32px;\n",
              "      padding: 0 0 0 0;\n",
              "      width: 32px;\n",
              "    }\n",
              "\n",
              "    .colab-df-convert:hover {\n",
              "      background-color: #E2EBFA;\n",
              "      box-shadow: 0px 1px 2px rgba(60, 64, 67, 0.3), 0px 1px 3px 1px rgba(60, 64, 67, 0.15);\n",
              "      fill: #174EA6;\n",
              "    }\n",
              "\n",
              "    .colab-df-buttons div {\n",
              "      margin-bottom: 4px;\n",
              "    }\n",
              "\n",
              "    [theme=dark] .colab-df-convert {\n",
              "      background-color: #3B4455;\n",
              "      fill: #D2E3FC;\n",
              "    }\n",
              "\n",
              "    [theme=dark] .colab-df-convert:hover {\n",
              "      background-color: #434B5C;\n",
              "      box-shadow: 0px 1px 3px 1px rgba(0, 0, 0, 0.15);\n",
              "      filter: drop-shadow(0px 1px 2px rgba(0, 0, 0, 0.3));\n",
              "      fill: #FFFFFF;\n",
              "    }\n",
              "  </style>\n",
              "\n",
              "    <script>\n",
              "      const buttonEl =\n",
              "        document.querySelector('#df-5b270a2f-d503-4889-b194-7d848efba53e button.colab-df-convert');\n",
              "      buttonEl.style.display =\n",
              "        google.colab.kernel.accessAllowed ? 'block' : 'none';\n",
              "\n",
              "      async function convertToInteractive(key) {\n",
              "        const element = document.querySelector('#df-5b270a2f-d503-4889-b194-7d848efba53e');\n",
              "        const dataTable =\n",
              "          await google.colab.kernel.invokeFunction('convertToInteractive',\n",
              "                                                    [key], {});\n",
              "        if (!dataTable) return;\n",
              "\n",
              "        const docLinkHtml = 'Like what you see? Visit the ' +\n",
              "          '<a target=\"_blank\" href=https://colab.research.google.com/notebooks/data_table.ipynb>data table notebook</a>'\n",
              "          + ' to learn more about interactive tables.';\n",
              "        element.innerHTML = '';\n",
              "        dataTable['output_type'] = 'display_data';\n",
              "        await google.colab.output.renderOutput(dataTable, element);\n",
              "        const docLink = document.createElement('div');\n",
              "        docLink.innerHTML = docLinkHtml;\n",
              "        element.appendChild(docLink);\n",
              "      }\n",
              "    </script>\n",
              "  </div>\n",
              "\n",
              "\n",
              "<div id=\"df-4c1c8554-2e58-412e-a511-cedf3ad7f95b\">\n",
              "  <button class=\"colab-df-quickchart\" onclick=\"quickchart('df-4c1c8554-2e58-412e-a511-cedf3ad7f95b')\"\n",
              "            title=\"Suggest charts.\"\n",
              "            style=\"display:none;\">\n",
              "\n",
              "<svg xmlns=\"http://www.w3.org/2000/svg\" height=\"24px\"viewBox=\"0 0 24 24\"\n",
              "     width=\"24px\">\n",
              "    <g>\n",
              "        <path d=\"M19 3H5c-1.1 0-2 .9-2 2v14c0 1.1.9 2 2 2h14c1.1 0 2-.9 2-2V5c0-1.1-.9-2-2-2zM9 17H7v-7h2v7zm4 0h-2V7h2v10zm4 0h-2v-4h2v4z\"/>\n",
              "    </g>\n",
              "</svg>\n",
              "  </button>\n",
              "\n",
              "<style>\n",
              "  .colab-df-quickchart {\n",
              "      --bg-color: #E8F0FE;\n",
              "      --fill-color: #1967D2;\n",
              "      --hover-bg-color: #E2EBFA;\n",
              "      --hover-fill-color: #174EA6;\n",
              "      --disabled-fill-color: #AAA;\n",
              "      --disabled-bg-color: #DDD;\n",
              "  }\n",
              "\n",
              "  [theme=dark] .colab-df-quickchart {\n",
              "      --bg-color: #3B4455;\n",
              "      --fill-color: #D2E3FC;\n",
              "      --hover-bg-color: #434B5C;\n",
              "      --hover-fill-color: #FFFFFF;\n",
              "      --disabled-bg-color: #3B4455;\n",
              "      --disabled-fill-color: #666;\n",
              "  }\n",
              "\n",
              "  .colab-df-quickchart {\n",
              "    background-color: var(--bg-color);\n",
              "    border: none;\n",
              "    border-radius: 50%;\n",
              "    cursor: pointer;\n",
              "    display: none;\n",
              "    fill: var(--fill-color);\n",
              "    height: 32px;\n",
              "    padding: 0;\n",
              "    width: 32px;\n",
              "  }\n",
              "\n",
              "  .colab-df-quickchart:hover {\n",
              "    background-color: var(--hover-bg-color);\n",
              "    box-shadow: 0 1px 2px rgba(60, 64, 67, 0.3), 0 1px 3px 1px rgba(60, 64, 67, 0.15);\n",
              "    fill: var(--button-hover-fill-color);\n",
              "  }\n",
              "\n",
              "  .colab-df-quickchart-complete:disabled,\n",
              "  .colab-df-quickchart-complete:disabled:hover {\n",
              "    background-color: var(--disabled-bg-color);\n",
              "    fill: var(--disabled-fill-color);\n",
              "    box-shadow: none;\n",
              "  }\n",
              "\n",
              "  .colab-df-spinner {\n",
              "    border: 2px solid var(--fill-color);\n",
              "    border-color: transparent;\n",
              "    border-bottom-color: var(--fill-color);\n",
              "    animation:\n",
              "      spin 1s steps(1) infinite;\n",
              "  }\n",
              "\n",
              "  @keyframes spin {\n",
              "    0% {\n",
              "      border-color: transparent;\n",
              "      border-bottom-color: var(--fill-color);\n",
              "      border-left-color: var(--fill-color);\n",
              "    }\n",
              "    20% {\n",
              "      border-color: transparent;\n",
              "      border-left-color: var(--fill-color);\n",
              "      border-top-color: var(--fill-color);\n",
              "    }\n",
              "    30% {\n",
              "      border-color: transparent;\n",
              "      border-left-color: var(--fill-color);\n",
              "      border-top-color: var(--fill-color);\n",
              "      border-right-color: var(--fill-color);\n",
              "    }\n",
              "    40% {\n",
              "      border-color: transparent;\n",
              "      border-right-color: var(--fill-color);\n",
              "      border-top-color: var(--fill-color);\n",
              "    }\n",
              "    60% {\n",
              "      border-color: transparent;\n",
              "      border-right-color: var(--fill-color);\n",
              "    }\n",
              "    80% {\n",
              "      border-color: transparent;\n",
              "      border-right-color: var(--fill-color);\n",
              "      border-bottom-color: var(--fill-color);\n",
              "    }\n",
              "    90% {\n",
              "      border-color: transparent;\n",
              "      border-bottom-color: var(--fill-color);\n",
              "    }\n",
              "  }\n",
              "</style>\n",
              "\n",
              "  <script>\n",
              "    async function quickchart(key) {\n",
              "      const quickchartButtonEl =\n",
              "        document.querySelector('#' + key + ' button');\n",
              "      quickchartButtonEl.disabled = true;  // To prevent multiple clicks.\n",
              "      quickchartButtonEl.classList.add('colab-df-spinner');\n",
              "      try {\n",
              "        const charts = await google.colab.kernel.invokeFunction(\n",
              "            'suggestCharts', [key], {});\n",
              "      } catch (error) {\n",
              "        console.error('Error during call to suggestCharts:', error);\n",
              "      }\n",
              "      quickchartButtonEl.classList.remove('colab-df-spinner');\n",
              "      quickchartButtonEl.classList.add('colab-df-quickchart-complete');\n",
              "    }\n",
              "    (() => {\n",
              "      let quickchartButtonEl =\n",
              "        document.querySelector('#df-4c1c8554-2e58-412e-a511-cedf3ad7f95b button');\n",
              "      quickchartButtonEl.style.display =\n",
              "        google.colab.kernel.accessAllowed ? 'block' : 'none';\n",
              "    })();\n",
              "  </script>\n",
              "</div>\n",
              "    </div>\n",
              "  </div>\n"
            ]
          },
          "metadata": {},
          "execution_count": 131
        }
      ],
      "source": [
        "chipo.head(10)"
      ]
    },
    {
      "cell_type": "markdown",
      "metadata": {
        "id": "7J-yvk4ChB1y"
      },
      "source": [
        "### Step 5. What is the number of observations in the dataset?"
      ]
    },
    {
      "cell_type": "code",
      "source": [
        "# Solution 1\n",
        "num_observations = len(chipo)\n",
        "print(num_observations)"
      ],
      "metadata": {
        "colab": {
          "base_uri": "https://localhost:8080/"
        },
        "id": "OUw3up7RnTB4",
        "outputId": "fb862a0d-f225-4456-e55b-eb160feabeca"
      },
      "execution_count": 132,
      "outputs": [
        {
          "output_type": "stream",
          "name": "stdout",
          "text": [
            "4622\n"
          ]
        }
      ]
    },
    {
      "cell_type": "code",
      "execution_count": 133,
      "metadata": {
        "colab": {
          "base_uri": "https://localhost:8080/"
        },
        "id": "cMnvFPh_hB10",
        "outputId": "c972a0ed-010c-41ec-c353-a6b272973ea7"
      },
      "outputs": [
        {
          "output_type": "stream",
          "name": "stdout",
          "text": [
            "<class 'pandas.core.frame.DataFrame'>\n",
            "RangeIndex: 4622 entries, 0 to 4621\n",
            "Data columns (total 5 columns):\n",
            " #   Column              Non-Null Count  Dtype \n",
            "---  ------              --------------  ----- \n",
            " 0   order_id            4622 non-null   int64 \n",
            " 1   quantity            4622 non-null   int64 \n",
            " 2   item_name           4622 non-null   object\n",
            " 3   choice_description  3376 non-null   object\n",
            " 4   item_price          4622 non-null   object\n",
            "dtypes: int64(2), object(3)\n",
            "memory usage: 180.7+ KB\n"
          ]
        }
      ],
      "source": [
        "# Solution 2\n",
        "# \"RangeIndex: 4622 entries\" means the dataset has 4622 observations.\n",
        "chipo.info()"
      ]
    },
    {
      "cell_type": "markdown",
      "metadata": {
        "id": "Hacf7wxVhB15"
      },
      "source": [
        "### Step 6. What is the number of columns in the dataset?"
      ]
    },
    {
      "cell_type": "code",
      "source": [
        "# Solution 1\n",
        "# Refer to step 5 solution 2, the dataset has 5 columns."
      ],
      "metadata": {
        "id": "fADOgz3wFqDD"
      },
      "execution_count": 134,
      "outputs": []
    },
    {
      "cell_type": "code",
      "execution_count": 135,
      "metadata": {
        "colab": {
          "base_uri": "https://localhost:8080/"
        },
        "id": "-IpsjKiFhB16",
        "outputId": "e46f1564-26e0-4be2-83fd-3cd23cf9b583"
      },
      "outputs": [
        {
          "output_type": "stream",
          "name": "stdout",
          "text": [
            "5\n"
          ]
        }
      ],
      "source": [
        "# Solution 2\n",
        "num_columns = len(chipo.columns)\n",
        "print(num_columns)"
      ]
    },
    {
      "cell_type": "markdown",
      "metadata": {
        "id": "7a53Pko4hB17"
      },
      "source": [
        "### Step 7. Print the name of all the columns."
      ]
    },
    {
      "cell_type": "code",
      "source": [
        "for column_name in chipo.columns:\n",
        "    print(column_name)"
      ],
      "metadata": {
        "colab": {
          "base_uri": "https://localhost:8080/"
        },
        "id": "GywYyc3-qHSO",
        "outputId": "5866e3f8-1191-4183-de14-92a92250ce44"
      },
      "execution_count": 136,
      "outputs": [
        {
          "output_type": "stream",
          "name": "stdout",
          "text": [
            "order_id\n",
            "quantity\n",
            "item_name\n",
            "choice_description\n",
            "item_price\n"
          ]
        }
      ]
    },
    {
      "cell_type": "markdown",
      "metadata": {
        "id": "ZXh1Bve5hB2A"
      },
      "source": [
        "### Step 8. How is the dataset indexed?"
      ]
    },
    {
      "cell_type": "code",
      "execution_count": 137,
      "metadata": {
        "colab": {
          "base_uri": "https://localhost:8080/"
        },
        "id": "stKT-ww3hB2C",
        "outputId": "a3c03922-7397-46d6-e7d7-c96aa86f8c69"
      },
      "outputs": [
        {
          "output_type": "stream",
          "name": "stdout",
          "text": [
            "RangeIndex(start=0, stop=4622, step=1)\n"
          ]
        }
      ],
      "source": [
        "print(chipo.index)"
      ]
    },
    {
      "cell_type": "markdown",
      "metadata": {
        "id": "cbY0dQ_6hB2E"
      },
      "source": [
        "### Step 9. Which was the most-ordered item?"
      ]
    },
    {
      "cell_type": "code",
      "execution_count": 138,
      "metadata": {
        "id": "dvIYx15yhB2E",
        "colab": {
          "base_uri": "https://localhost:8080/"
        },
        "outputId": "545b527f-b01f-4c85-cb27-d6ad3fc1b4fa"
      },
      "outputs": [
        {
          "output_type": "stream",
          "name": "stdout",
          "text": [
            "                                item_name  sum_of_quantity\n",
            "0                       6 Pack Soft Drink               55\n",
            "1                           Barbacoa Bowl               66\n",
            "2                        Barbacoa Burrito               91\n",
            "3                   Barbacoa Crispy Tacos               12\n",
            "4                     Barbacoa Salad Bowl               10\n",
            "5                     Barbacoa Soft Tacos               25\n",
            "6                           Bottled Water              211\n",
            "7                                    Bowl                4\n",
            "8                                 Burrito                6\n",
            "9                             Canned Soda              126\n",
            "10                      Canned Soft Drink              351\n",
            "11                          Carnitas Bowl               71\n",
            "12                       Carnitas Burrito               60\n",
            "13                  Carnitas Crispy Tacos                8\n",
            "14                         Carnitas Salad                1\n",
            "15                    Carnitas Salad Bowl                6\n",
            "16                    Carnitas Soft Tacos               40\n",
            "17                           Chicken Bowl              761\n",
            "18                        Chicken Burrito              591\n",
            "19                   Chicken Crispy Tacos               50\n",
            "20                          Chicken Salad                9\n",
            "21                     Chicken Salad Bowl              123\n",
            "22                     Chicken Soft Tacos              120\n",
            "23                                  Chips              230\n",
            "24           Chips and Fresh Tomato Salsa              130\n",
            "25                    Chips and Guacamole              506\n",
            "26      Chips and Mild Fresh Tomato Salsa                1\n",
            "27     Chips and Roasted Chili Corn Salsa               23\n",
            "28     Chips and Roasted Chili-Corn Salsa               18\n",
            "29  Chips and Tomatillo Green Chili Salsa               45\n",
            "30    Chips and Tomatillo Red Chili Salsa               50\n",
            "31  Chips and Tomatillo-Green Chili Salsa               33\n",
            "32    Chips and Tomatillo-Red Chili Salsa               25\n",
            "33                           Crispy Tacos                2\n",
            "34                                   Izze               20\n",
            "35                       Nantucket Nectar               29\n",
            "36                                  Salad                2\n",
            "37                          Side of Chips              110\n",
            "38                             Steak Bowl              221\n",
            "39                          Steak Burrito              386\n",
            "40                     Steak Crispy Tacos               36\n",
            "41                            Steak Salad                4\n",
            "42                       Steak Salad Bowl               31\n",
            "43                       Steak Soft Tacos               56\n",
            "44                            Veggie Bowl               87\n",
            "45                         Veggie Burrito               97\n",
            "46                    Veggie Crispy Tacos                1\n",
            "47                           Veggie Salad                6\n",
            "48                      Veggie Salad Bowl               18\n",
            "49                      Veggie Soft Tacos                8\n"
          ]
        }
      ],
      "source": [
        "# Group the data by 'item_name' and sum the 'quantity' for each item, then rename the column to 'sum of quantity'\n",
        "Sum_Of_Quantity = chipo.groupby('item_name')['quantity'].sum().reset_index()\n",
        "Sum_Of_Quantity = Sum_Of_Quantity.rename(columns={'quantity': 'sum_of_quantity'})\n",
        "print(Sum_Of_Quantity)"
      ]
    },
    {
      "cell_type": "code",
      "source": [
        "# Find the most-ordered item\n",
        "most_ordered_item = Sum_Of_Quantity.loc[Sum_Of_Quantity['sum_of_quantity'].idxmax()]\n",
        "print(most_ordered_item)"
      ],
      "metadata": {
        "colab": {
          "base_uri": "https://localhost:8080/"
        },
        "id": "t9ozs3s0R4NL",
        "outputId": "328b4aa3-3f5d-4ed2-bd4b-5a402582c1b9"
      },
      "execution_count": 139,
      "outputs": [
        {
          "output_type": "stream",
          "name": "stdout",
          "text": [
            "item_name          Chicken Bowl\n",
            "sum_of_quantity             761\n",
            "Name: 17, dtype: object\n"
          ]
        }
      ]
    },
    {
      "cell_type": "code",
      "source": [
        "# Display the result\n",
        "print(f\"The most-ordered item is {most_ordered_item['item_name']}.\")"
      ],
      "metadata": {
        "colab": {
          "base_uri": "https://localhost:8080/"
        },
        "id": "wTfxFSWlR_XT",
        "outputId": "1c64f534-f6ea-42d9-cc2d-84ebf6e32f64"
      },
      "execution_count": 140,
      "outputs": [
        {
          "output_type": "stream",
          "name": "stdout",
          "text": [
            "The most-ordered item is Chicken Bowl.\n"
          ]
        }
      ]
    },
    {
      "cell_type": "markdown",
      "metadata": {
        "id": "2E-47wH6hB2F"
      },
      "source": [
        "### Step 10. For the most-ordered item, how many items were ordered?"
      ]
    },
    {
      "cell_type": "code",
      "execution_count": 141,
      "metadata": {
        "id": "Hlye9v3EhB2G",
        "colab": {
          "base_uri": "https://localhost:8080/"
        },
        "outputId": "97ce59d0-cc72-4ae5-8698-7ee57cfb57d0"
      },
      "outputs": [
        {
          "output_type": "stream",
          "name": "stdout",
          "text": [
            "761 Chicken Bowls were ordered.\n"
          ]
        }
      ],
      "source": [
        "print(f\"{most_ordered_item['sum_of_quantity']} {most_ordered_item['item_name']}s were ordered.\")"
      ]
    },
    {
      "cell_type": "markdown",
      "metadata": {
        "id": "koWUfE3QhB2H"
      },
      "source": [
        "### Step 11. What was the most ordered item in the choice_description column?"
      ]
    },
    {
      "cell_type": "code",
      "execution_count": 142,
      "metadata": {
        "id": "lKm0VexlhB2J",
        "colab": {
          "base_uri": "https://localhost:8080/"
        },
        "outputId": "8edb86c0-cb49-47e9-c66a-5744e65866a3"
      },
      "outputs": [
        {
          "output_type": "stream",
          "name": "stdout",
          "text": [
            "Diet Coke\n"
          ]
        }
      ],
      "source": [
        "sum_qty_choice_desc = chipo.groupby('choice_description')['quantity'].sum().reset_index()\n",
        "most_ordered_choice_desc = sum_qty_choice_desc.loc[sum_qty_choice_desc['quantity'].idxmax()]\n",
        "print(most_ordered_choice_desc['choice_description'].strip('[]'))"
      ]
    },
    {
      "cell_type": "markdown",
      "metadata": {
        "id": "e3GZ0jEkhB2K"
      },
      "source": [
        "### Step 12. How many items were ordered in total?"
      ]
    },
    {
      "cell_type": "code",
      "execution_count": 143,
      "metadata": {
        "id": "3TBqsXBChB2L",
        "colab": {
          "base_uri": "https://localhost:8080/"
        },
        "outputId": "df0b6bf9-949d-4ed8-ad5b-0e3ca17848e1"
      },
      "outputs": [
        {
          "output_type": "stream",
          "name": "stdout",
          "text": [
            "159 Diet Coke were ordered.\n"
          ]
        }
      ],
      "source": [
        "print(f\"{most_ordered_choice_desc['quantity']} {most_ordered_choice_desc['choice_description'].strip('[]')} were ordered.\")"
      ]
    },
    {
      "cell_type": "markdown",
      "metadata": {
        "id": "667Buaz0hB2P"
      },
      "source": [
        "### Step 13. Turn the item price into a float"
      ]
    },
    {
      "cell_type": "markdown",
      "metadata": {
        "id": "F8i78akGhB2R"
      },
      "source": [
        "#### Step 13.a. Check the item price type"
      ]
    },
    {
      "cell_type": "code",
      "execution_count": 144,
      "metadata": {
        "id": "iTB8KzZhhB2S",
        "colab": {
          "base_uri": "https://localhost:8080/"
        },
        "outputId": "b5e5f0cd-0190-464a-c3b3-161af284c4eb"
      },
      "outputs": [
        {
          "output_type": "execute_result",
          "data": {
            "text/plain": [
              "dtype('O')"
            ]
          },
          "metadata": {},
          "execution_count": 144
        }
      ],
      "source": [
        "chipo['item_price'].dtype"
      ]
    },
    {
      "cell_type": "markdown",
      "metadata": {
        "id": "rc3fcThWhB2T"
      },
      "source": [
        "#### Step 13.b. Create a lambda function and change the type of item price"
      ]
    },
    {
      "cell_type": "code",
      "execution_count": 145,
      "metadata": {
        "collapsed": true,
        "id": "Bv33izbnhB2U"
      },
      "outputs": [],
      "source": [
        "chipo['item_price'] = chipo['item_price'].apply(lambda price: float(price.replace(\"$\", \"\")))"
      ]
    },
    {
      "cell_type": "markdown",
      "metadata": {
        "id": "LLuy4vH0hB2V"
      },
      "source": [
        "#### Step 13.c. Check the item price type"
      ]
    },
    {
      "cell_type": "code",
      "execution_count": 146,
      "metadata": {
        "id": "jsYdmLV8hB2X",
        "colab": {
          "base_uri": "https://localhost:8080/"
        },
        "outputId": "04e85841-e182-47bf-fcd6-f81fc9dfcffa"
      },
      "outputs": [
        {
          "output_type": "execute_result",
          "data": {
            "text/plain": [
              "dtype('float64')"
            ]
          },
          "metadata": {},
          "execution_count": 146
        }
      ],
      "source": [
        "chipo['item_price'].dtype"
      ]
    },
    {
      "cell_type": "markdown",
      "metadata": {
        "id": "TvMxRQtRhB2Y"
      },
      "source": [
        "### Step 14. How much was the revenue for the period in the dataset?"
      ]
    },
    {
      "cell_type": "code",
      "execution_count": 147,
      "metadata": {
        "id": "9kZdtdVEhB2Z",
        "colab": {
          "base_uri": "https://localhost:8080/"
        },
        "outputId": "3a967cdb-375c-420f-952b-1e3c765cc461"
      },
      "outputs": [
        {
          "output_type": "stream",
          "name": "stdout",
          "text": [
            "Total revenue for the period is $ 34500.16\n"
          ]
        }
      ],
      "source": [
        "total_revenue = chipo[\"item_price\"].sum()\n",
        "print(\"Total revenue for the period is $\",total_revenue)"
      ]
    },
    {
      "cell_type": "markdown",
      "metadata": {
        "id": "I-gkMqaRhB2Z"
      },
      "source": [
        "### Step 15. How many orders were made in the period?"
      ]
    },
    {
      "cell_type": "code",
      "execution_count": 148,
      "metadata": {
        "id": "wZr3wd6IhB2a",
        "colab": {
          "base_uri": "https://localhost:8080/"
        },
        "outputId": "2078c0b6-c4de-4512-dac7-7c4941d04693"
      },
      "outputs": [
        {
          "output_type": "stream",
          "name": "stdout",
          "text": [
            "1834 orders were made in the period.\n"
          ]
        }
      ],
      "source": [
        "unique_orders = chipo[\"order_id\"].nunique()\n",
        "print(unique_orders,\"orders were made in the period.\",)"
      ]
    },
    {
      "cell_type": "markdown",
      "metadata": {
        "id": "elGh9YxYhB2b"
      },
      "source": [
        "### Step 16. What is the average revenue amount per order?"
      ]
    },
    {
      "cell_type": "code",
      "execution_count": 149,
      "metadata": {
        "id": "AeGO0BkLhB2p",
        "colab": {
          "base_uri": "https://localhost:8080/"
        },
        "outputId": "20c6ebd2-3999-4584-e867-8688fb0b036c"
      },
      "outputs": [
        {
          "output_type": "stream",
          "name": "stdout",
          "text": [
            "Average revenue amount per order is $18.81\n"
          ]
        }
      ],
      "source": [
        "# Solution 1\n",
        "average_revenue_per_order_1 = total_revenue / unique_orders\n",
        "print(\"Average revenue amount per order is ${:.2f}\".format(average_revenue_per_order_1))"
      ]
    },
    {
      "cell_type": "code",
      "execution_count": 150,
      "metadata": {
        "id": "zpF__XN0hB4B",
        "colab": {
          "base_uri": "https://localhost:8080/"
        },
        "outputId": "d94387dd-b332-46a9-eb23-d552f32cea28"
      },
      "outputs": [
        {
          "output_type": "stream",
          "name": "stdout",
          "text": [
            "Average revenue amount per order is $18.81\n"
          ]
        }
      ],
      "source": [
        "# Solution 2\n",
        "order_revenue = chipo.groupby(\"order_id\")[\"item_price\"].sum()\n",
        "average_revenue_per_order_2 = order_revenue.mean()\n",
        "print(\"Average revenue amount per order is ${:.2f}\".format(average_revenue_per_order_2))"
      ]
    },
    {
      "cell_type": "markdown",
      "metadata": {
        "id": "QwLKPpoGhB4F"
      },
      "source": [
        "### Step 17. How many different items are sold?"
      ]
    },
    {
      "cell_type": "code",
      "execution_count": 151,
      "metadata": {
        "id": "6r5v4kvGhB4G",
        "colab": {
          "base_uri": "https://localhost:8080/"
        },
        "outputId": "b543703a-ec1c-4fa6-b4d0-e36cdc6344d0"
      },
      "outputs": [
        {
          "output_type": "stream",
          "name": "stdout",
          "text": [
            "50 different items are sold.\n"
          ]
        }
      ],
      "source": [
        "unique_items_sold = chipo[\"item_name\"].nunique()\n",
        "print(unique_items_sold,\"different items are sold.\")\n",
        "\n",
        "# The list of items sold can be referred in step 9."
      ]
    }
  ],
  "metadata": {
    "anaconda-cloud": {},
    "kernelspec": {
      "display_name": "Python [default]",
      "language": "python",
      "name": "python2"
    },
    "language_info": {
      "codemirror_mode": {
        "name": "ipython",
        "version": 2
      },
      "file_extension": ".py",
      "mimetype": "text/x-python",
      "name": "python",
      "nbconvert_exporter": "python",
      "pygments_lexer": "ipython2",
      "version": "2.7.12"
    },
    "colab": {
      "provenance": [],
      "toc_visible": true
    }
  },
  "nbformat": 4,
  "nbformat_minor": 0
}