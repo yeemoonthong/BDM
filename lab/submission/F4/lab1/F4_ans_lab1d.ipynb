{
  "nbformat": 4,
  "nbformat_minor": 0,
  "metadata": {
    "colab": {
      "provenance": [],
      "authorship_tag": "ABX9TyNP/qjH5JZmPMafeBCLXH42",
      "include_colab_link": true
    },
    "kernelspec": {
      "name": "python3",
      "display_name": "Python 3"
    },
    "language_info": {
      "name": "python"
    }
  },
  "cells": [
    {
      "cell_type": "markdown",
      "metadata": {
        "id": "view-in-github",
        "colab_type": "text"
      },
      "source": [
        "<a href=\"https://colab.research.google.com/github/drshahizan/BDM/blob/main/lab/submission/F4/lab1/F4_ans_lab1d.ipynb\" target=\"_parent\"><img src=\"https://colab.research.google.com/assets/colab-badge.svg\" alt=\"Open In Colab\"/></a>"
      ]
    },
    {
      "cell_type": "markdown",
      "source": [
        "#Lab 1d - Filtering and Sorting Data\n",
        "Please use the [**Chipotle Sales dataset**](https://raw.githubusercontent.com/drshahizan/dataset/main/pandas/chipotle.tsv) for this exercise."
      ],
      "metadata": {
        "id": "aWKCxENvqzE7"
      }
    },
    {
      "cell_type": "markdown",
      "source": [
        "###Step 1. Import the necessary libraries"
      ],
      "metadata": {
        "id": "psojOJE5rBxA"
      }
    },
    {
      "cell_type": "code",
      "source": [
        "import pandas as pd\n",
        "import numpy as np"
      ],
      "metadata": {
        "id": "0rsigQvMrbBp"
      },
      "execution_count": null,
      "outputs": []
    },
    {
      "cell_type": "markdown",
      "source": [
        "###Step 2. Import the dataset from this address."
      ],
      "metadata": {
        "id": "kMCabNRNrcao"
      }
    },
    {
      "cell_type": "code",
      "source": [
        "df = pd.read_csv('https://raw.githubusercontent.com/drshahizan/dataset/main/pandas/chipotle.tsv', sep='\\t')\n",
        "\n",
        "# Convert item_price to float\n",
        "df['item_price'] = df['item_price'].str.replace('$', '',regex=False).astype(float)\n",
        "\n",
        "df.head(10)"
      ],
      "metadata": {
        "colab": {
          "base_uri": "https://localhost:8080/",
          "height": 363
        },
        "id": "zFCj95VAepJ1",
        "outputId": "9ed8827e-92d8-450c-8099-8a183e3a0190"
      },
      "execution_count": 35,
      "outputs": [
        {
          "output_type": "execute_result",
          "data": {
            "text/plain": [
              "   order_id  quantity                              item_name  \\\n",
              "0         1         1           Chips and Fresh Tomato Salsa   \n",
              "1         1         1                                   Izze   \n",
              "2         1         1                       Nantucket Nectar   \n",
              "3         1         1  Chips and Tomatillo-Green Chili Salsa   \n",
              "4         2         2                           Chicken Bowl   \n",
              "5         3         1                           Chicken Bowl   \n",
              "6         3         1                          Side of Chips   \n",
              "7         4         1                          Steak Burrito   \n",
              "8         4         1                       Steak Soft Tacos   \n",
              "9         5         1                          Steak Burrito   \n",
              "\n",
              "                                  choice_description  item_price  \n",
              "0                                                NaN        2.39  \n",
              "1                                       [Clementine]        3.39  \n",
              "2                                            [Apple]        3.39  \n",
              "3                                                NaN        2.39  \n",
              "4  [Tomatillo-Red Chili Salsa (Hot), [Black Beans...       16.98  \n",
              "5  [Fresh Tomato Salsa (Mild), [Rice, Cheese, Sou...       10.98  \n",
              "6                                                NaN        1.69  \n",
              "7  [Tomatillo Red Chili Salsa, [Fajita Vegetables...       11.75  \n",
              "8  [Tomatillo Green Chili Salsa, [Pinto Beans, Ch...        9.25  \n",
              "9  [Fresh Tomato Salsa, [Rice, Black Beans, Pinto...        9.25  "
            ],
            "text/html": [
              "\n",
              "  <div id=\"df-b1c1346e-5189-44ea-b42e-ed02cd12b7fb\" class=\"colab-df-container\">\n",
              "    <div>\n",
              "<style scoped>\n",
              "    .dataframe tbody tr th:only-of-type {\n",
              "        vertical-align: middle;\n",
              "    }\n",
              "\n",
              "    .dataframe tbody tr th {\n",
              "        vertical-align: top;\n",
              "    }\n",
              "\n",
              "    .dataframe thead th {\n",
              "        text-align: right;\n",
              "    }\n",
              "</style>\n",
              "<table border=\"1\" class=\"dataframe\">\n",
              "  <thead>\n",
              "    <tr style=\"text-align: right;\">\n",
              "      <th></th>\n",
              "      <th>order_id</th>\n",
              "      <th>quantity</th>\n",
              "      <th>item_name</th>\n",
              "      <th>choice_description</th>\n",
              "      <th>item_price</th>\n",
              "    </tr>\n",
              "  </thead>\n",
              "  <tbody>\n",
              "    <tr>\n",
              "      <th>0</th>\n",
              "      <td>1</td>\n",
              "      <td>1</td>\n",
              "      <td>Chips and Fresh Tomato Salsa</td>\n",
              "      <td>NaN</td>\n",
              "      <td>2.39</td>\n",
              "    </tr>\n",
              "    <tr>\n",
              "      <th>1</th>\n",
              "      <td>1</td>\n",
              "      <td>1</td>\n",
              "      <td>Izze</td>\n",
              "      <td>[Clementine]</td>\n",
              "      <td>3.39</td>\n",
              "    </tr>\n",
              "    <tr>\n",
              "      <th>2</th>\n",
              "      <td>1</td>\n",
              "      <td>1</td>\n",
              "      <td>Nantucket Nectar</td>\n",
              "      <td>[Apple]</td>\n",
              "      <td>3.39</td>\n",
              "    </tr>\n",
              "    <tr>\n",
              "      <th>3</th>\n",
              "      <td>1</td>\n",
              "      <td>1</td>\n",
              "      <td>Chips and Tomatillo-Green Chili Salsa</td>\n",
              "      <td>NaN</td>\n",
              "      <td>2.39</td>\n",
              "    </tr>\n",
              "    <tr>\n",
              "      <th>4</th>\n",
              "      <td>2</td>\n",
              "      <td>2</td>\n",
              "      <td>Chicken Bowl</td>\n",
              "      <td>[Tomatillo-Red Chili Salsa (Hot), [Black Beans...</td>\n",
              "      <td>16.98</td>\n",
              "    </tr>\n",
              "    <tr>\n",
              "      <th>5</th>\n",
              "      <td>3</td>\n",
              "      <td>1</td>\n",
              "      <td>Chicken Bowl</td>\n",
              "      <td>[Fresh Tomato Salsa (Mild), [Rice, Cheese, Sou...</td>\n",
              "      <td>10.98</td>\n",
              "    </tr>\n",
              "    <tr>\n",
              "      <th>6</th>\n",
              "      <td>3</td>\n",
              "      <td>1</td>\n",
              "      <td>Side of Chips</td>\n",
              "      <td>NaN</td>\n",
              "      <td>1.69</td>\n",
              "    </tr>\n",
              "    <tr>\n",
              "      <th>7</th>\n",
              "      <td>4</td>\n",
              "      <td>1</td>\n",
              "      <td>Steak Burrito</td>\n",
              "      <td>[Tomatillo Red Chili Salsa, [Fajita Vegetables...</td>\n",
              "      <td>11.75</td>\n",
              "    </tr>\n",
              "    <tr>\n",
              "      <th>8</th>\n",
              "      <td>4</td>\n",
              "      <td>1</td>\n",
              "      <td>Steak Soft Tacos</td>\n",
              "      <td>[Tomatillo Green Chili Salsa, [Pinto Beans, Ch...</td>\n",
              "      <td>9.25</td>\n",
              "    </tr>\n",
              "    <tr>\n",
              "      <th>9</th>\n",
              "      <td>5</td>\n",
              "      <td>1</td>\n",
              "      <td>Steak Burrito</td>\n",
              "      <td>[Fresh Tomato Salsa, [Rice, Black Beans, Pinto...</td>\n",
              "      <td>9.25</td>\n",
              "    </tr>\n",
              "  </tbody>\n",
              "</table>\n",
              "</div>\n",
              "    <div class=\"colab-df-buttons\">\n",
              "\n",
              "  <div class=\"colab-df-container\">\n",
              "    <button class=\"colab-df-convert\" onclick=\"convertToInteractive('df-b1c1346e-5189-44ea-b42e-ed02cd12b7fb')\"\n",
              "            title=\"Convert this dataframe to an interactive table.\"\n",
              "            style=\"display:none;\">\n",
              "\n",
              "  <svg xmlns=\"http://www.w3.org/2000/svg\" height=\"24px\" viewBox=\"0 -960 960 960\">\n",
              "    <path d=\"M120-120v-720h720v720H120Zm60-500h600v-160H180v160Zm220 220h160v-160H400v160Zm0 220h160v-160H400v160ZM180-400h160v-160H180v160Zm440 0h160v-160H620v160ZM180-180h160v-160H180v160Zm440 0h160v-160H620v160Z\"/>\n",
              "  </svg>\n",
              "    </button>\n",
              "\n",
              "  <style>\n",
              "    .colab-df-container {\n",
              "      display:flex;\n",
              "      gap: 12px;\n",
              "    }\n",
              "\n",
              "    .colab-df-convert {\n",
              "      background-color: #E8F0FE;\n",
              "      border: none;\n",
              "      border-radius: 50%;\n",
              "      cursor: pointer;\n",
              "      display: none;\n",
              "      fill: #1967D2;\n",
              "      height: 32px;\n",
              "      padding: 0 0 0 0;\n",
              "      width: 32px;\n",
              "    }\n",
              "\n",
              "    .colab-df-convert:hover {\n",
              "      background-color: #E2EBFA;\n",
              "      box-shadow: 0px 1px 2px rgba(60, 64, 67, 0.3), 0px 1px 3px 1px rgba(60, 64, 67, 0.15);\n",
              "      fill: #174EA6;\n",
              "    }\n",
              "\n",
              "    .colab-df-buttons div {\n",
              "      margin-bottom: 4px;\n",
              "    }\n",
              "\n",
              "    [theme=dark] .colab-df-convert {\n",
              "      background-color: #3B4455;\n",
              "      fill: #D2E3FC;\n",
              "    }\n",
              "\n",
              "    [theme=dark] .colab-df-convert:hover {\n",
              "      background-color: #434B5C;\n",
              "      box-shadow: 0px 1px 3px 1px rgba(0, 0, 0, 0.15);\n",
              "      filter: drop-shadow(0px 1px 2px rgba(0, 0, 0, 0.3));\n",
              "      fill: #FFFFFF;\n",
              "    }\n",
              "  </style>\n",
              "\n",
              "    <script>\n",
              "      const buttonEl =\n",
              "        document.querySelector('#df-b1c1346e-5189-44ea-b42e-ed02cd12b7fb button.colab-df-convert');\n",
              "      buttonEl.style.display =\n",
              "        google.colab.kernel.accessAllowed ? 'block' : 'none';\n",
              "\n",
              "      async function convertToInteractive(key) {\n",
              "        const element = document.querySelector('#df-b1c1346e-5189-44ea-b42e-ed02cd12b7fb');\n",
              "        const dataTable =\n",
              "          await google.colab.kernel.invokeFunction('convertToInteractive',\n",
              "                                                    [key], {});\n",
              "        if (!dataTable) return;\n",
              "\n",
              "        const docLinkHtml = 'Like what you see? Visit the ' +\n",
              "          '<a target=\"_blank\" href=https://colab.research.google.com/notebooks/data_table.ipynb>data table notebook</a>'\n",
              "          + ' to learn more about interactive tables.';\n",
              "        element.innerHTML = '';\n",
              "        dataTable['output_type'] = 'display_data';\n",
              "        await google.colab.output.renderOutput(dataTable, element);\n",
              "        const docLink = document.createElement('div');\n",
              "        docLink.innerHTML = docLinkHtml;\n",
              "        element.appendChild(docLink);\n",
              "      }\n",
              "    </script>\n",
              "  </div>\n",
              "\n",
              "\n",
              "<div id=\"df-c26f3214-44ba-4d26-9218-0b6efc7d3f9b\">\n",
              "  <button class=\"colab-df-quickchart\" onclick=\"quickchart('df-c26f3214-44ba-4d26-9218-0b6efc7d3f9b')\"\n",
              "            title=\"Suggest charts.\"\n",
              "            style=\"display:none;\">\n",
              "\n",
              "<svg xmlns=\"http://www.w3.org/2000/svg\" height=\"24px\"viewBox=\"0 0 24 24\"\n",
              "     width=\"24px\">\n",
              "    <g>\n",
              "        <path d=\"M19 3H5c-1.1 0-2 .9-2 2v14c0 1.1.9 2 2 2h14c1.1 0 2-.9 2-2V5c0-1.1-.9-2-2-2zM9 17H7v-7h2v7zm4 0h-2V7h2v10zm4 0h-2v-4h2v4z\"/>\n",
              "    </g>\n",
              "</svg>\n",
              "  </button>\n",
              "\n",
              "<style>\n",
              "  .colab-df-quickchart {\n",
              "      --bg-color: #E8F0FE;\n",
              "      --fill-color: #1967D2;\n",
              "      --hover-bg-color: #E2EBFA;\n",
              "      --hover-fill-color: #174EA6;\n",
              "      --disabled-fill-color: #AAA;\n",
              "      --disabled-bg-color: #DDD;\n",
              "  }\n",
              "\n",
              "  [theme=dark] .colab-df-quickchart {\n",
              "      --bg-color: #3B4455;\n",
              "      --fill-color: #D2E3FC;\n",
              "      --hover-bg-color: #434B5C;\n",
              "      --hover-fill-color: #FFFFFF;\n",
              "      --disabled-bg-color: #3B4455;\n",
              "      --disabled-fill-color: #666;\n",
              "  }\n",
              "\n",
              "  .colab-df-quickchart {\n",
              "    background-color: var(--bg-color);\n",
              "    border: none;\n",
              "    border-radius: 50%;\n",
              "    cursor: pointer;\n",
              "    display: none;\n",
              "    fill: var(--fill-color);\n",
              "    height: 32px;\n",
              "    padding: 0;\n",
              "    width: 32px;\n",
              "  }\n",
              "\n",
              "  .colab-df-quickchart:hover {\n",
              "    background-color: var(--hover-bg-color);\n",
              "    box-shadow: 0 1px 2px rgba(60, 64, 67, 0.3), 0 1px 3px 1px rgba(60, 64, 67, 0.15);\n",
              "    fill: var(--button-hover-fill-color);\n",
              "  }\n",
              "\n",
              "  .colab-df-quickchart-complete:disabled,\n",
              "  .colab-df-quickchart-complete:disabled:hover {\n",
              "    background-color: var(--disabled-bg-color);\n",
              "    fill: var(--disabled-fill-color);\n",
              "    box-shadow: none;\n",
              "  }\n",
              "\n",
              "  .colab-df-spinner {\n",
              "    border: 2px solid var(--fill-color);\n",
              "    border-color: transparent;\n",
              "    border-bottom-color: var(--fill-color);\n",
              "    animation:\n",
              "      spin 1s steps(1) infinite;\n",
              "  }\n",
              "\n",
              "  @keyframes spin {\n",
              "    0% {\n",
              "      border-color: transparent;\n",
              "      border-bottom-color: var(--fill-color);\n",
              "      border-left-color: var(--fill-color);\n",
              "    }\n",
              "    20% {\n",
              "      border-color: transparent;\n",
              "      border-left-color: var(--fill-color);\n",
              "      border-top-color: var(--fill-color);\n",
              "    }\n",
              "    30% {\n",
              "      border-color: transparent;\n",
              "      border-left-color: var(--fill-color);\n",
              "      border-top-color: var(--fill-color);\n",
              "      border-right-color: var(--fill-color);\n",
              "    }\n",
              "    40% {\n",
              "      border-color: transparent;\n",
              "      border-right-color: var(--fill-color);\n",
              "      border-top-color: var(--fill-color);\n",
              "    }\n",
              "    60% {\n",
              "      border-color: transparent;\n",
              "      border-right-color: var(--fill-color);\n",
              "    }\n",
              "    80% {\n",
              "      border-color: transparent;\n",
              "      border-right-color: var(--fill-color);\n",
              "      border-bottom-color: var(--fill-color);\n",
              "    }\n",
              "    90% {\n",
              "      border-color: transparent;\n",
              "      border-bottom-color: var(--fill-color);\n",
              "    }\n",
              "  }\n",
              "</style>\n",
              "\n",
              "  <script>\n",
              "    async function quickchart(key) {\n",
              "      const quickchartButtonEl =\n",
              "        document.querySelector('#' + key + ' button');\n",
              "      quickchartButtonEl.disabled = true;  // To prevent multiple clicks.\n",
              "      quickchartButtonEl.classList.add('colab-df-spinner');\n",
              "      try {\n",
              "        const charts = await google.colab.kernel.invokeFunction(\n",
              "            'suggestCharts', [key], {});\n",
              "      } catch (error) {\n",
              "        console.error('Error during call to suggestCharts:', error);\n",
              "      }\n",
              "      quickchartButtonEl.classList.remove('colab-df-spinner');\n",
              "      quickchartButtonEl.classList.add('colab-df-quickchart-complete');\n",
              "    }\n",
              "    (() => {\n",
              "      let quickchartButtonEl =\n",
              "        document.querySelector('#df-c26f3214-44ba-4d26-9218-0b6efc7d3f9b button');\n",
              "      quickchartButtonEl.style.display =\n",
              "        google.colab.kernel.accessAllowed ? 'block' : 'none';\n",
              "    })();\n",
              "  </script>\n",
              "</div>\n",
              "    </div>\n",
              "  </div>\n"
            ]
          },
          "metadata": {},
          "execution_count": 35
        }
      ]
    },
    {
      "cell_type": "markdown",
      "source": [
        "###Step 3. Assign it to a variable called chipo."
      ],
      "metadata": {
        "id": "PZaOg-_yrb94"
      }
    },
    {
      "cell_type": "code",
      "source": [
        "chipo=df"
      ],
      "metadata": {
        "id": "LVjbR4wdrc-o"
      },
      "execution_count": null,
      "outputs": []
    },
    {
      "cell_type": "markdown",
      "source": [
        "###Step 4. How many products cost more than $10.00?"
      ],
      "metadata": {
        "id": "wMSjGFHkrdow"
      }
    },
    {
      "cell_type": "code",
      "source": [
        "# Count of products that cost more than $10.00\n",
        "\n",
        "count = 0\n",
        "for price in chipo.item_price:\n",
        "    if price > 10.00:\n",
        "        count += 1\n",
        "# Print the count of products that cost more than $10.00\n",
        "print(f'Total products costing more than $10.00 : {count}')\n"
      ],
      "metadata": {
        "colab": {
          "base_uri": "https://localhost:8080/"
        },
        "id": "nQTrKQScJC6W",
        "outputId": "a399d4c4-d63b-4995-a79f-5cb0ad0392b4"
      },
      "execution_count": 19,
      "outputs": [
        {
          "output_type": "stream",
          "name": "stdout",
          "text": [
            "Total products costing more than $10.00 : 1130\n"
          ]
        }
      ]
    },
    {
      "cell_type": "markdown",
      "source": [
        "###Step 5. What is the price of each item?\n",
        "print a data frame with only two columns item_name and item_price"
      ],
      "metadata": {
        "id": "Yz8HLFrQrbiw"
      }
    },
    {
      "cell_type": "code",
      "source": [
        "print(chipo.groupby(by =\"item_name\")[[\"item_price\"]].min().reset_index())"
      ],
      "metadata": {
        "id": "jevd0CzZre1Y",
        "colab": {
          "base_uri": "https://localhost:8080/"
        },
        "outputId": "f5f49a61-c287-4397-839f-24c60dcc5e2c"
      },
      "execution_count": 33,
      "outputs": [
        {
          "output_type": "stream",
          "name": "stdout",
          "text": [
            "                                item_name  item_price\n",
            "0                       6 Pack Soft Drink        6.49\n",
            "1                           Barbacoa Bowl        8.69\n",
            "2                        Barbacoa Burrito        8.69\n",
            "3                   Barbacoa Crispy Tacos        8.99\n",
            "4                     Barbacoa Salad Bowl        9.39\n",
            "5                     Barbacoa Soft Tacos        8.99\n",
            "6                           Bottled Water        1.09\n",
            "7                                    Bowl        7.40\n",
            "8                                 Burrito        7.40\n",
            "9                             Canned Soda        1.09\n",
            "10                      Canned Soft Drink        1.25\n",
            "11                          Carnitas Bowl        8.99\n",
            "12                       Carnitas Burrito        8.69\n",
            "13                  Carnitas Crispy Tacos        8.99\n",
            "14                         Carnitas Salad        8.99\n",
            "15                    Carnitas Salad Bowl        9.39\n",
            "16                    Carnitas Soft Tacos        8.99\n",
            "17                           Chicken Bowl        8.19\n",
            "18                        Chicken Burrito        8.19\n",
            "19                   Chicken Crispy Tacos        8.49\n",
            "20                          Chicken Salad        8.19\n",
            "21                     Chicken Salad Bowl        8.75\n",
            "22                     Chicken Soft Tacos        8.49\n",
            "23                                  Chips        1.99\n",
            "24           Chips and Fresh Tomato Salsa        2.29\n",
            "25                    Chips and Guacamole        3.89\n",
            "26      Chips and Mild Fresh Tomato Salsa        3.00\n",
            "27     Chips and Roasted Chili Corn Salsa        2.95\n",
            "28     Chips and Roasted Chili-Corn Salsa        2.39\n",
            "29  Chips and Tomatillo Green Chili Salsa        2.95\n",
            "30    Chips and Tomatillo Red Chili Salsa        2.95\n",
            "31  Chips and Tomatillo-Green Chili Salsa        2.39\n",
            "32    Chips and Tomatillo-Red Chili Salsa        2.39\n",
            "33                           Crispy Tacos        7.40\n",
            "34                                   Izze        3.39\n",
            "35                       Nantucket Nectar        3.39\n",
            "36                                  Salad        7.40\n",
            "37                          Side of Chips        1.69\n",
            "38                             Steak Bowl        8.69\n",
            "39                          Steak Burrito        8.69\n",
            "40                     Steak Crispy Tacos        8.69\n",
            "41                            Steak Salad        8.69\n",
            "42                       Steak Salad Bowl        9.39\n",
            "43                       Steak Soft Tacos        8.99\n",
            "44                            Veggie Bowl        8.49\n",
            "45                         Veggie Burrito        8.49\n",
            "46                    Veggie Crispy Tacos        8.49\n",
            "47                           Veggie Salad        8.49\n",
            "48                      Veggie Salad Bowl        8.75\n",
            "49                      Veggie Soft Tacos        8.49\n"
          ]
        }
      ]
    },
    {
      "cell_type": "markdown",
      "source": [
        "###Step 6. Sort by the name of the item"
      ],
      "metadata": {
        "id": "__9Z6a4QrfQQ"
      }
    },
    {
      "cell_type": "code",
      "source": [
        "print((chipo.sort_values(by='item_name', ascending=True))[['item_name','item_price']])\n"
      ],
      "metadata": {
        "id": "pjEoa4mArfk3",
        "colab": {
          "base_uri": "https://localhost:8080/"
        },
        "outputId": "01c8bbf7-9643-44e6-ca08-cab2b594edf3"
      },
      "execution_count": 37,
      "outputs": [
        {
          "output_type": "stream",
          "name": "stdout",
          "text": [
            "              item_name  item_price\n",
            "3389  6 Pack Soft Drink       12.98\n",
            "341   6 Pack Soft Drink        6.49\n",
            "1849  6 Pack Soft Drink        6.49\n",
            "1860  6 Pack Soft Drink        6.49\n",
            "2713  6 Pack Soft Drink        6.49\n",
            "...                 ...         ...\n",
            "2384  Veggie Soft Tacos        8.75\n",
            "781   Veggie Soft Tacos        8.75\n",
            "2851  Veggie Soft Tacos        8.49\n",
            "1699  Veggie Soft Tacos       11.25\n",
            "1395  Veggie Soft Tacos        8.49\n",
            "\n",
            "[4622 rows x 2 columns]\n"
          ]
        }
      ]
    },
    {
      "cell_type": "markdown",
      "source": [
        "###Step 7. What was the quantity of the most expensive item ordered?"
      ],
      "metadata": {
        "id": "-oFfe1cArgBI"
      }
    },
    {
      "cell_type": "code",
      "source": [
        "max_price = chipo['item_price'].max()\n",
        "most_expensive_items = chipo[chipo['item_price'] == max_price]\n",
        "quantity_most_expensive = most_expensive_items['quantity'].sum()\n",
        "print(f'The quantity of the most expensive item ordered is: {quantity_most_expensive}')\n"
      ],
      "metadata": {
        "colab": {
          "base_uri": "https://localhost:8080/"
        },
        "id": "E8McHutrq-TG",
        "outputId": "94598cff-e457-4a61-8921-26b71735e3df"
      },
      "execution_count": 34,
      "outputs": [
        {
          "output_type": "stream",
          "name": "stdout",
          "text": [
            "The quantity of the most expensive item ordered is: 15\n"
          ]
        }
      ]
    },
    {
      "cell_type": "markdown",
      "source": [
        "###Step 8. How many times was a Veggie Salad Bowl ordered?"
      ],
      "metadata": {
        "id": "dh6zGzserytR"
      }
    },
    {
      "cell_type": "code",
      "source": [
        "orderVSB=len(chipo[(chipo[\"item_name\"]==\"Veggie Salad Bowl\")])\n",
        "print(\"The total number Veggie Salad Bowl was order is : \", orderVSB)"
      ],
      "metadata": {
        "id": "z40dsgESrzUY",
        "colab": {
          "base_uri": "https://localhost:8080/"
        },
        "outputId": "0c4bc6d7-eec5-479c-9ed7-83c3c994b50c"
      },
      "execution_count": null,
      "outputs": [
        {
          "output_type": "stream",
          "name": "stdout",
          "text": [
            "The total number Veggie Salad Bowl was order is :  18\n"
          ]
        }
      ]
    },
    {
      "cell_type": "markdown",
      "source": [
        "###Step 9. How many times did someone order more than one Canned Soda?"
      ],
      "metadata": {
        "id": "LsUEG7xMrzwA"
      }
    },
    {
      "cell_type": "code",
      "source": [
        "orderCS=len(chipo[(chipo[\"item_name\"]==\"Canned Soda\") &\n",
        "         (chipo[\"quantity\"]>1)])\n",
        "\n",
        "print(\"The total number someone order more than one Canned Soda is : \", orderCS)"
      ],
      "metadata": {
        "id": "BVPaY-1Pr0Vg",
        "colab": {
          "base_uri": "https://localhost:8080/"
        },
        "outputId": "0036e53c-6848-4898-b0c5-b862ba799b62"
      },
      "execution_count": null,
      "outputs": [
        {
          "output_type": "stream",
          "name": "stdout",
          "text": [
            "The total number someone order more than one Canned Soda is :  20\n"
          ]
        }
      ]
    }
  ]
}