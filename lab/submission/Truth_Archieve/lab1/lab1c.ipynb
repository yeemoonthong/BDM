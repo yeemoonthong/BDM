{
  "cells": [
    {
      "cell_type": "markdown",
      "metadata": {
        "id": "view-in-github",
        "colab_type": "text"
      },
      "source": [
        "<a href=\"https://colab.research.google.com/github/drshahizan/BDM/blob/main/lab/submission/Truth_Archieve/lab1/lab1c.ipynb\" target=\"_parent\"><img src=\"https://colab.research.google.com/assets/colab-badge.svg\" alt=\"Open In Colab\"/></a>"
      ]
    },
    {
      "cell_type": "markdown",
      "metadata": {
        "id": "MG6UAuHSqhkZ"
      },
      "source": [
        "# Lab 1c - Understanding Your Data"
      ]
    },
    {
      "cell_type": "markdown",
      "source": [],
      "metadata": {
        "id": "Q3QhWr2Bql7W"
      }
    },
    {
      "cell_type": "markdown",
      "metadata": {
        "id": "pGkkzFriqhkb"
      },
      "source": [
        "Please use the [**Open Food Facts**](https://www.kaggle.com/openfoodfacts/world-food-facts/data) dataset for this exercise.\n"
      ]
    },
    {
      "cell_type": "markdown",
      "metadata": {
        "id": "Lc2H1r5Yqhkc"
      },
      "source": [
        "### Step 1. Download the dataset to your computer and unzip it."
      ]
    },
    {
      "cell_type": "code",
      "source": [
        "import pandas as pd\n",
        "! pip install kaggle"
      ],
      "metadata": {
        "id": "dc_uVTU9VLbG",
        "outputId": "449afaa2-c972-4ec4-ca0b-9145e6ed8eb9",
        "colab": {
          "base_uri": "https://localhost:8080/"
        }
      },
      "execution_count": 2,
      "outputs": [
        {
          "output_type": "stream",
          "name": "stdout",
          "text": [
            "Requirement already satisfied: kaggle in /usr/local/lib/python3.10/dist-packages (1.5.16)\n",
            "Requirement already satisfied: six>=1.10 in /usr/local/lib/python3.10/dist-packages (from kaggle) (1.16.0)\n",
            "Requirement already satisfied: certifi in /usr/local/lib/python3.10/dist-packages (from kaggle) (2023.7.22)\n",
            "Requirement already satisfied: python-dateutil in /usr/local/lib/python3.10/dist-packages (from kaggle) (2.8.2)\n",
            "Requirement already satisfied: requests in /usr/local/lib/python3.10/dist-packages (from kaggle) (2.31.0)\n",
            "Requirement already satisfied: tqdm in /usr/local/lib/python3.10/dist-packages (from kaggle) (4.66.1)\n",
            "Requirement already satisfied: python-slugify in /usr/local/lib/python3.10/dist-packages (from kaggle) (8.0.1)\n",
            "Requirement already satisfied: urllib3 in /usr/local/lib/python3.10/dist-packages (from kaggle) (2.0.7)\n",
            "Requirement already satisfied: bleach in /usr/local/lib/python3.10/dist-packages (from kaggle) (6.1.0)\n",
            "Requirement already satisfied: webencodings in /usr/local/lib/python3.10/dist-packages (from bleach->kaggle) (0.5.1)\n",
            "Requirement already satisfied: text-unidecode>=1.3 in /usr/local/lib/python3.10/dist-packages (from python-slugify->kaggle) (1.3)\n",
            "Requirement already satisfied: charset-normalizer<4,>=2 in /usr/local/lib/python3.10/dist-packages (from requests->kaggle) (3.3.1)\n",
            "Requirement already satisfied: idna<4,>=2.5 in /usr/local/lib/python3.10/dist-packages (from requests->kaggle) (3.4)\n"
          ]
        }
      ]
    },
    {
      "cell_type": "markdown",
      "metadata": {
        "id": "8LrizT-Mqhkc"
      },
      "source": [
        "### Step 2. Use the tsv file and assign it to a dataframe called food\n",
        "Connecting to GoogleDrive"
      ]
    },
    {
      "cell_type": "code",
      "source": [
        "from google.colab import drive\n",
        "drive.mount('/content/drive')"
      ],
      "metadata": {
        "colab": {
          "base_uri": "https://localhost:8080/"
        },
        "id": "YMia5s3nsUps",
        "outputId": "d53be239-fd56-437d-88bd-3c3d9e9609f1"
      },
      "execution_count": 3,
      "outputs": [
        {
          "output_type": "stream",
          "name": "stdout",
          "text": [
            "Mounted at /content/drive\n"
          ]
        }
      ]
    },
    {
      "cell_type": "code",
      "source": [
        "! mkdir ~/.kaggle"
      ],
      "metadata": {
        "id": "FoGdRiXIs5lH"
      },
      "execution_count": 6,
      "outputs": []
    },
    {
      "cell_type": "code",
      "source": [
        "!cp /content/drive/MyDrive/kaggle.json ~/.kaggle/kaggle.json"
      ],
      "metadata": {
        "id": "rwbpcn2-som1"
      },
      "execution_count": 7,
      "outputs": []
    },
    {
      "cell_type": "code",
      "source": [
        "! chmod 600 ~/.kaggle/kaggle.json"
      ],
      "metadata": {
        "id": "K3EQ5fB0svSg"
      },
      "execution_count": 8,
      "outputs": []
    },
    {
      "cell_type": "code",
      "source": [
        "! kaggle datasets download -d openfoodfacts/world-food-facts"
      ],
      "metadata": {
        "id": "7wBkgbz9soth",
        "outputId": "3f950990-0a64-4dae-87bd-0520a2a4dfb1",
        "colab": {
          "base_uri": "https://localhost:8080/"
        }
      },
      "execution_count": 9,
      "outputs": [
        {
          "output_type": "stream",
          "name": "stdout",
          "text": [
            "Downloading world-food-facts.zip to /content\n",
            " 82% 89.0M/109M [00:01<00:00, 62.8MB/s]\n",
            "100% 109M/109M [00:01<00:00, 79.8MB/s] \n"
          ]
        }
      ]
    },
    {
      "cell_type": "code",
      "source": [
        "! unzip world-food-facts.zip"
      ],
      "metadata": {
        "id": "r0tQGmbxtFn2",
        "outputId": "c70ce6f5-86c4-48d6-a515-c2a9e46f52dd",
        "colab": {
          "base_uri": "https://localhost:8080/"
        }
      },
      "execution_count": 10,
      "outputs": [
        {
          "output_type": "stream",
          "name": "stdout",
          "text": [
            "Archive:  world-food-facts.zip\n",
            "  inflating: en.openfoodfacts.org.products.tsv  \n"
          ]
        }
      ]
    },
    {
      "cell_type": "code",
      "source": [],
      "metadata": {
        "id": "v2evlnbUtFvD"
      },
      "execution_count": null,
      "outputs": []
    },
    {
      "cell_type": "markdown",
      "source": [
        "Assigning the dataset"
      ],
      "metadata": {
        "id": "qTpuwJolVZvw"
      }
    },
    {
      "cell_type": "code",
      "source": [
        "food = pd.read_csv('/content/en.openfoodfacts.org.products.tsv', sep='\\t', index_col='code')"
      ],
      "metadata": {
        "colab": {
          "base_uri": "https://localhost:8080/"
        },
        "id": "Q2Lwc7cZsHDu",
        "outputId": "8becdc92-7d54-4c39-c0b0-1029cc92f615"
      },
      "execution_count": 11,
      "outputs": [
        {
          "output_type": "stream",
          "name": "stderr",
          "text": [
            "<ipython-input-11-5cd67ddcd691>:1: DtypeWarning: Columns (0,3,5,19,20,24,25,26,27,28,36,37,38,39,48) have mixed types. Specify dtype option on import or set low_memory=False.\n",
            "  food = pd.read_csv('/content/en.openfoodfacts.org.products.tsv', sep='\\t', index_col='code')\n"
          ]
        }
      ]
    },
    {
      "cell_type": "markdown",
      "metadata": {
        "id": "q1HtrbORqhkd"
      },
      "source": [
        "### Step 3. See the first 5 entries"
      ]
    },
    {
      "cell_type": "code",
      "execution_count": 12,
      "metadata": {
        "collapsed": true,
        "colab": {
          "base_uri": "https://localhost:8080/"
        },
        "id": "3yQARPgXqhkd",
        "outputId": "bf66fa72-c927-40fa-c0ba-ff9736f80285"
      },
      "outputs": [
        {
          "output_type": "stream",
          "name": "stdout",
          "text": [
            "                                                     url  \\\n",
            "code                                                       \n",
            "3087   http://world-en.openfoodfacts.org/product/0000...   \n",
            "4530   http://world-en.openfoodfacts.org/product/0000...   \n",
            "4559   http://world-en.openfoodfacts.org/product/0000...   \n",
            "16087  http://world-en.openfoodfacts.org/product/0000...   \n",
            "16094  http://world-en.openfoodfacts.org/product/0000...   \n",
            "\n",
            "                          creator   created_t      created_datetime  \\\n",
            "code                                                                  \n",
            "3087   openfoodfacts-contributors  1474103866  2016-09-17T09:17:46Z   \n",
            "4530              usda-ndb-import  1489069957  2017-03-09T14:32:37Z   \n",
            "4559              usda-ndb-import  1489069957  2017-03-09T14:32:37Z   \n",
            "16087             usda-ndb-import  1489055731  2017-03-09T10:35:31Z   \n",
            "16094             usda-ndb-import  1489055653  2017-03-09T10:34:13Z   \n",
            "\n",
            "      last_modified_t last_modified_datetime                    product_name  \\\n",
            "code                                                                           \n",
            "3087       1474103893   2016-09-17T09:18:13Z              Farine de blé noir   \n",
            "4530       1489069957   2017-03-09T14:32:37Z  Banana Chips Sweetened (Whole)   \n",
            "4559       1489069957   2017-03-09T14:32:37Z                         Peanuts   \n",
            "16087      1489055731   2017-03-09T10:35:31Z          Organic Salted Nut Mix   \n",
            "16094      1489055653   2017-03-09T10:34:13Z                 Organic Polenta   \n",
            "\n",
            "      generic_name quantity packaging  ... fruits-vegetables-nuts_100g  \\\n",
            "code                                   ...                               \n",
            "3087           NaN      1kg       NaN  ...                         NaN   \n",
            "4530           NaN      NaN       NaN  ...                         NaN   \n",
            "4559           NaN      NaN       NaN  ...                         NaN   \n",
            "16087          NaN      NaN       NaN  ...                         NaN   \n",
            "16094          NaN      NaN       NaN  ...                         NaN   \n",
            "\n",
            "      fruits-vegetables-nuts-estimate_100g collagen-meat-protein-ratio_100g  \\\n",
            "code                                                                          \n",
            "3087                                   NaN                              NaN   \n",
            "4530                                   NaN                              NaN   \n",
            "4559                                   NaN                              NaN   \n",
            "16087                                  NaN                              NaN   \n",
            "16094                                  NaN                              NaN   \n",
            "\n",
            "      cocoa_100g chlorophyl_100g carbon-footprint_100g  \\\n",
            "code                                                     \n",
            "3087         NaN             NaN                   NaN   \n",
            "4530         NaN             NaN                   NaN   \n",
            "4559         NaN             NaN                   NaN   \n",
            "16087        NaN             NaN                   NaN   \n",
            "16094        NaN             NaN                   NaN   \n",
            "\n",
            "      nutrition-score-fr_100g nutrition-score-uk_100g glycemic-index_100g  \\\n",
            "code                                                                        \n",
            "3087                      NaN                     NaN                 NaN   \n",
            "4530                     14.0                    14.0                 NaN   \n",
            "4559                      0.0                     0.0                 NaN   \n",
            "16087                    12.0                    12.0                 NaN   \n",
            "16094                     NaN                     NaN                 NaN   \n",
            "\n",
            "      water-hardness_100g  \n",
            "code                       \n",
            "3087                  NaN  \n",
            "4530                  NaN  \n",
            "4559                  NaN  \n",
            "16087                 NaN  \n",
            "16094                 NaN  \n",
            "\n",
            "[5 rows x 162 columns]\n"
          ]
        }
      ],
      "source": [
        "first5= food.head(5)\n",
        "print(first5)"
      ]
    },
    {
      "cell_type": "markdown",
      "metadata": {
        "id": "aqHUay8Lqhke"
      },
      "source": [
        "### Step 4. What is the number of observations in the dataset?"
      ]
    },
    {
      "cell_type": "code",
      "execution_count": 13,
      "metadata": {
        "collapsed": true,
        "colab": {
          "base_uri": "https://localhost:8080/"
        },
        "id": "PrSIcqI2qhke",
        "outputId": "dfd208df-917e-4adc-f3ae-fbc070b90612"
      },
      "outputs": [
        {
          "output_type": "stream",
          "name": "stdout",
          "text": [
            "n of observers are: 356027\n"
          ]
        }
      ],
      "source": [
        "num_observation=food.shape[0]\n",
        "print(\"n of observers are:\", num_observation)"
      ]
    },
    {
      "cell_type": "markdown",
      "metadata": {
        "id": "gjUybCQDqhke"
      },
      "source": [
        "### Step 5. What is the number of columns in the dataset?"
      ]
    },
    {
      "cell_type": "code",
      "execution_count": 14,
      "metadata": {
        "collapsed": true,
        "colab": {
          "base_uri": "https://localhost:8080/"
        },
        "id": "yX3MnBngqhkf",
        "outputId": "9f0907c5-0c9b-4f33-b21d-044139087b3a"
      },
      "outputs": [
        {
          "output_type": "stream",
          "name": "stdout",
          "text": [
            "N of columns are: 162\n"
          ]
        }
      ],
      "source": [
        "num_column=food.shape[1]\n",
        "print(\"N of columns are:\", num_column)"
      ]
    },
    {
      "cell_type": "markdown",
      "metadata": {
        "id": "Yyc9-2eqqhkf"
      },
      "source": [
        "### Step 6. Print the name of all the columns."
      ]
    },
    {
      "cell_type": "code",
      "execution_count": 15,
      "metadata": {
        "collapsed": true,
        "colab": {
          "base_uri": "https://localhost:8080/"
        },
        "id": "sMEN7rJAqhkf",
        "outputId": "c40a393c-a6bf-43ad-dfb9-90f8d243cc8d"
      },
      "outputs": [
        {
          "output_type": "stream",
          "name": "stdout",
          "text": [
            "Column names are:\n",
            "url\n",
            "creator\n",
            "created_t\n",
            "created_datetime\n",
            "last_modified_t\n",
            "last_modified_datetime\n",
            "product_name\n",
            "generic_name\n",
            "quantity\n",
            "packaging\n",
            "packaging_tags\n",
            "brands\n",
            "brands_tags\n",
            "categories\n",
            "categories_tags\n",
            "categories_en\n",
            "origins\n",
            "origins_tags\n",
            "manufacturing_places\n",
            "manufacturing_places_tags\n",
            "labels\n",
            "labels_tags\n",
            "labels_en\n",
            "emb_codes\n",
            "emb_codes_tags\n",
            "first_packaging_code_geo\n",
            "cities\n",
            "cities_tags\n",
            "purchase_places\n",
            "stores\n",
            "countries\n",
            "countries_tags\n",
            "countries_en\n",
            "ingredients_text\n",
            "allergens\n",
            "allergens_en\n",
            "traces\n",
            "traces_tags\n",
            "traces_en\n",
            "serving_size\n",
            "no_nutriments\n",
            "additives_n\n",
            "additives\n",
            "additives_tags\n",
            "additives_en\n",
            "ingredients_from_palm_oil_n\n",
            "ingredients_from_palm_oil\n",
            "ingredients_from_palm_oil_tags\n",
            "ingredients_that_may_be_from_palm_oil_n\n",
            "ingredients_that_may_be_from_palm_oil\n",
            "ingredients_that_may_be_from_palm_oil_tags\n",
            "nutrition_grade_uk\n",
            "nutrition_grade_fr\n",
            "pnns_groups_1\n",
            "pnns_groups_2\n",
            "states\n",
            "states_tags\n",
            "states_en\n",
            "main_category\n",
            "main_category_en\n",
            "image_url\n",
            "image_small_url\n",
            "energy_100g\n",
            "energy-from-fat_100g\n",
            "fat_100g\n",
            "saturated-fat_100g\n",
            "-butyric-acid_100g\n",
            "-caproic-acid_100g\n",
            "-caprylic-acid_100g\n",
            "-capric-acid_100g\n",
            "-lauric-acid_100g\n",
            "-myristic-acid_100g\n",
            "-palmitic-acid_100g\n",
            "-stearic-acid_100g\n",
            "-arachidic-acid_100g\n",
            "-behenic-acid_100g\n",
            "-lignoceric-acid_100g\n",
            "-cerotic-acid_100g\n",
            "-montanic-acid_100g\n",
            "-melissic-acid_100g\n",
            "monounsaturated-fat_100g\n",
            "polyunsaturated-fat_100g\n",
            "omega-3-fat_100g\n",
            "-alpha-linolenic-acid_100g\n",
            "-eicosapentaenoic-acid_100g\n",
            "-docosahexaenoic-acid_100g\n",
            "omega-6-fat_100g\n",
            "-linoleic-acid_100g\n",
            "-arachidonic-acid_100g\n",
            "-gamma-linolenic-acid_100g\n",
            "-dihomo-gamma-linolenic-acid_100g\n",
            "omega-9-fat_100g\n",
            "-oleic-acid_100g\n",
            "-elaidic-acid_100g\n",
            "-gondoic-acid_100g\n",
            "-mead-acid_100g\n",
            "-erucic-acid_100g\n",
            "-nervonic-acid_100g\n",
            "trans-fat_100g\n",
            "cholesterol_100g\n",
            "carbohydrates_100g\n",
            "sugars_100g\n",
            "-sucrose_100g\n",
            "-glucose_100g\n",
            "-fructose_100g\n",
            "-lactose_100g\n",
            "-maltose_100g\n",
            "-maltodextrins_100g\n",
            "starch_100g\n",
            "polyols_100g\n",
            "fiber_100g\n",
            "proteins_100g\n",
            "casein_100g\n",
            "serum-proteins_100g\n",
            "nucleotides_100g\n",
            "salt_100g\n",
            "sodium_100g\n",
            "alcohol_100g\n",
            "vitamin-a_100g\n",
            "beta-carotene_100g\n",
            "vitamin-d_100g\n",
            "vitamin-e_100g\n",
            "vitamin-k_100g\n",
            "vitamin-c_100g\n",
            "vitamin-b1_100g\n",
            "vitamin-b2_100g\n",
            "vitamin-pp_100g\n",
            "vitamin-b6_100g\n",
            "vitamin-b9_100g\n",
            "folates_100g\n",
            "vitamin-b12_100g\n",
            "biotin_100g\n",
            "pantothenic-acid_100g\n",
            "silica_100g\n",
            "bicarbonate_100g\n",
            "potassium_100g\n",
            "chloride_100g\n",
            "calcium_100g\n",
            "phosphorus_100g\n",
            "iron_100g\n",
            "magnesium_100g\n",
            "zinc_100g\n",
            "copper_100g\n",
            "manganese_100g\n",
            "fluoride_100g\n",
            "selenium_100g\n",
            "chromium_100g\n",
            "molybdenum_100g\n",
            "iodine_100g\n",
            "caffeine_100g\n",
            "taurine_100g\n",
            "ph_100g\n",
            "fruits-vegetables-nuts_100g\n",
            "fruits-vegetables-nuts-estimate_100g\n",
            "collagen-meat-protein-ratio_100g\n",
            "cocoa_100g\n",
            "chlorophyl_100g\n",
            "carbon-footprint_100g\n",
            "nutrition-score-fr_100g\n",
            "nutrition-score-uk_100g\n",
            "glycemic-index_100g\n",
            "water-hardness_100g\n"
          ]
        }
      ],
      "source": [
        "column_names=food.columns\n",
        "print(\"Column names are:\")\n",
        "for c in column_names:\n",
        "  print(c)"
      ]
    },
    {
      "cell_type": "markdown",
      "metadata": {
        "id": "SsED1M7Cqhkf"
      },
      "source": [
        "### Step 7. What is the name of 105th column?"
      ]
    },
    {
      "cell_type": "code",
      "execution_count": 16,
      "metadata": {
        "collapsed": true,
        "colab": {
          "base_uri": "https://localhost:8080/"
        },
        "id": "UWlzA9tSqhkf",
        "outputId": "e7f48d56-0389-4179-dbc5-99255994643a"
      },
      "outputs": [
        {
          "output_type": "stream",
          "name": "stdout",
          "text": [
            "Column names is: -fructose_100g\n"
          ]
        }
      ],
      "source": [
        "column_105_name=food.columns[104]\n",
        "print(\"Column names is:\", column_105_name)"
      ]
    },
    {
      "cell_type": "markdown",
      "metadata": {
        "id": "XwFJRzOEqhkf"
      },
      "source": [
        "### Step 8. What is the type of the observations of the 105th column?"
      ]
    },
    {
      "cell_type": "code",
      "execution_count": 17,
      "metadata": {
        "collapsed": true,
        "colab": {
          "base_uri": "https://localhost:8080/"
        },
        "id": "vOq2nylSqhkf",
        "outputId": "c6464518-d55f-4f9e-ded6-109380c4fdd8"
      },
      "outputs": [
        {
          "output_type": "stream",
          "name": "stdout",
          "text": [
            "the data type of the 105th column is: float64\n"
          ]
        }
      ],
      "source": [
        "type_105th_column=food.iloc[:,104].dtypes\n",
        "print(\"the data type of the 105th column is:\", type_105th_column)"
      ]
    },
    {
      "cell_type": "markdown",
      "metadata": {
        "id": "l6WPyLPjqhkg"
      },
      "source": [
        "### Step 9. How is the dataset indexed?"
      ]
    },
    {
      "cell_type": "code",
      "execution_count": 18,
      "metadata": {
        "collapsed": true,
        "colab": {
          "base_uri": "https://localhost:8080/"
        },
        "id": "mxClZ6ZFqhkg",
        "outputId": "ee370666-ea00-4e8c-cb73-f98d0473eeef"
      },
      "outputs": [
        {
          "output_type": "stream",
          "name": "stdout",
          "text": [
            "Index of the dataset: Index([           3087,            4530,            4559,           16087,\n",
            "                 16094,           16100,           16117,           16124,\n",
            "                 16193,           16513,\n",
            "       ...\n",
            "            '99111250',          '9918', '9935010000003',      '99410148',\n",
            "       '9948282780603',      '99567453', '9970229501521', '9977471758307',\n",
            "       '9980282863788',  '999990026839'],\n",
            "      dtype='object', name='code', length=356027)\n"
          ]
        }
      ],
      "source": [
        "index_info=food.index\n",
        "print(\"Index of the dataset:\", index_info)"
      ]
    },
    {
      "cell_type": "markdown",
      "metadata": {
        "id": "m9E9DoLrqhkg"
      },
      "source": [
        "### Step 10. What is the product name of the 19th observation?"
      ]
    },
    {
      "cell_type": "code",
      "execution_count": 19,
      "metadata": {
        "collapsed": true,
        "colab": {
          "base_uri": "https://localhost:8080/"
        },
        "id": "-S9h0IKZqhkg",
        "outputId": "2cef0c4d-4297-4afe-a98f-85d166adc794"
      },
      "outputs": [
        {
          "output_type": "stream",
          "name": "stdout",
          "text": [
            "the 19th product name observer is: Lotus Organic Brown Jasmine Rice\n"
          ]
        }
      ],
      "source": [
        "product_19th_name_obs= food.iloc[18]['product_name']\n",
        "print(\"the 19th product name observer is:\", product_19th_name_obs)"
      ]
    }
  ],
  "metadata": {
    "anaconda-cloud": {},
    "kernelspec": {
      "display_name": "Python [default]",
      "language": "python",
      "name": "python2"
    },
    "language_info": {
      "codemirror_mode": {
        "name": "ipython",
        "version": 2
      },
      "file_extension": ".py",
      "mimetype": "text/x-python",
      "name": "python",
      "nbconvert_exporter": "python",
      "pygments_lexer": "ipython2",
      "version": "2.7.12"
    },
    "colab": {
      "provenance": [],
      "include_colab_link": true
    }
  },
  "nbformat": 4,
  "nbformat_minor": 0
}