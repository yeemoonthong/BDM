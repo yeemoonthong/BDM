{
  "cells": [
    {
      "cell_type": "markdown",
      "metadata": {
        "id": "view-in-github",
        "colab_type": "text"
      },
      "source": [
        "<a href=\"https://colab.research.google.com/github/drshahizan/BDM/blob/main/lab/submission/Truth_Archieve/lab1/lab1d_by_shahirah.ipynb\" target=\"_parent\"><img src=\"https://colab.research.google.com/assets/colab-badge.svg\" alt=\"Open In Colab\"/></a>"
      ]
    },
    {
      "cell_type": "markdown",
      "metadata": {
        "id": "wRLL9Aa2peuP"
      },
      "source": [
        "# Lab 1d - Filtering and Sorting Data"
      ]
    },
    {
      "cell_type": "markdown",
      "metadata": {
        "id": "e33t2AxopeuU"
      },
      "source": [
        "Please use the [**Chipotle Sales dataset**](https://raw.githubusercontent.com/drshahizan/dataset/main/pandas/chipotle.tsv) for this exercise.\n",
        "\n",
        "### Step 1. Import the necessary libraries"
      ]
    },
    {
      "cell_type": "code",
      "execution_count": 1,
      "metadata": {
        "id": "mD5eyRk1peuV"
      },
      "outputs": [],
      "source": [
        "import pandas as pd"
      ]
    },
    {
      "cell_type": "markdown",
      "metadata": {
        "id": "r0-JeXYHpeuW"
      },
      "source": [
        "### Step 2. Import the dataset from this [address](https://raw.githubusercontent.com/justmarkham/DAT8/master/data/chipotle.tsv)."
      ]
    },
    {
      "cell_type": "markdown",
      "metadata": {
        "id": "_4ZJ--FzpeuX"
      },
      "source": [
        "### Step 3. Assign it to a variable called chipo."
      ]
    },
    {
      "cell_type": "code",
      "execution_count": 2,
      "metadata": {
        "id": "iO1SD6uspeuX"
      },
      "outputs": [],
      "source": [
        "chipo = pd.read_csv('https://raw.githubusercontent.com/drshahizan/dataset/main/pandas/chipotle.tsv', sep='\\t', index_col='order_id')"
      ]
    },
    {
      "cell_type": "markdown",
      "metadata": {
        "id": "QL7k2Kd5peuX"
      },
      "source": [
        "### Step 4. How many products cost more than $10.00?"
      ]
    },
    {
      "cell_type": "code",
      "source": [
        "price_type= chipo['item_price'].dtype\n",
        "print(\"itemdatatype is: \", price_type)"
      ],
      "metadata": {
        "colab": {
          "base_uri": "https://localhost:8080/"
        },
        "id": "7GNHjKfbrOqq",
        "outputId": "367a911e-b5f0-4db1-867f-cf97610b49d1"
      },
      "execution_count": 3,
      "outputs": [
        {
          "output_type": "stream",
          "name": "stdout",
          "text": [
            "itemdatatype is:  object\n"
          ]
        }
      ]
    },
    {
      "cell_type": "code",
      "execution_count": 4,
      "metadata": {
        "id": "HPZhsyJYpeuY"
      },
      "outputs": [],
      "source": [
        "chipo['item_price'] = chipo['item_price'].apply(lambda x: float(x.replace(' ','').replace('$','')))"
      ]
    },
    {
      "cell_type": "code",
      "source": [
        "price_type= chipo['item_price'].dtype\n",
        "print(\"itemdatatype is: \", price_type)"
      ],
      "metadata": {
        "colab": {
          "base_uri": "https://localhost:8080/"
        },
        "id": "iu1BMdj-3Q60",
        "outputId": "65950cc5-c828-4638-f6a3-3485eddc82d9"
      },
      "execution_count": 5,
      "outputs": [
        {
          "output_type": "stream",
          "name": "stdout",
          "text": [
            "itemdatatype is:  float64\n"
          ]
        }
      ]
    },
    {
      "cell_type": "code",
      "source": [
        "morethan10=chipo[chipo['item_price']>10.00]\n",
        "products_morethan10=morethan10.shape[0]\n",
        "print(\"Products cost more than $10.00 : \", products_morethan10)"
      ],
      "metadata": {
        "colab": {
          "base_uri": "https://localhost:8080/"
        },
        "id": "V57abwXUykBW",
        "outputId": "cbb6dabf-435e-4ee3-a8b7-35ef516d224c"
      },
      "execution_count": 14,
      "outputs": [
        {
          "output_type": "stream",
          "name": "stdout",
          "text": [
            "Products cost more than $10.00 :  1130\n"
          ]
        }
      ]
    },
    {
      "cell_type": "markdown",
      "metadata": {
        "id": "pF5Jy9TypeuY"
      },
      "source": [
        "### Step 5. What is the price of each item?\n",
        "###### print a data frame with only two columns item_name and item_price"
      ]
    },
    {
      "cell_type": "code",
      "execution_count": 12,
      "metadata": {
        "colab": {
          "base_uri": "https://localhost:8080/"
        },
        "id": "1sYX6wQzpeuZ",
        "outputId": "0f78eedc-c7ba-48d3-dc37-5d7f409ed939"
      },
      "outputs": [
        {
          "output_type": "stream",
          "name": "stdout",
          "text": [
            "item_name\n",
            "6 Pack Soft Drink                                                            [6.49, 12.98]\n",
            "Barbacoa Bowl                                      [11.75, 9.25, 8.99, 11.48, 8.69, 11.49]\n",
            "Barbacoa Burrito                                   [8.99, 9.25, 11.75, 11.08, 8.69, 11.48]\n",
            "Barbacoa Crispy Tacos                                     [11.75, 9.25, 11.48, 8.99, 18.5]\n",
            "Barbacoa Salad Bowl                                                          [11.89, 9.39]\n",
            "Barbacoa Soft Tacos                                             [9.25, 8.99, 11.75, 11.48]\n",
            "Bottled Water                            [1.09, 1.5, 3.0, 3.27, 2.18, 6.0, 7.5, 4.5, 10...\n",
            "Bowl                                                                           [22.2, 7.4]\n",
            "Burrito                                                                              [7.4]\n",
            "Canned Soda                                                             [2.18, 1.09, 4.36]\n",
            "Canned Soft Drink                                                   [1.25, 2.5, 3.75, 5.0]\n",
            "Carnitas Bowl                               [8.99, 11.75, 9.25, 11.48, 23.5, 11.08, 35.25]\n",
            "Carnitas Burrito                             [8.99, 9.25, 11.75, 11.48, 18.5, 11.08, 8.69]\n",
            "Carnitas Crispy Tacos                                           [9.25, 11.75, 8.99, 17.98]\n",
            "Carnitas Salad                                                                      [8.99]\n",
            "Carnitas Salad Bowl                                                          [11.89, 9.39]\n",
            "Carnitas Soft Tacos                                                    [9.25, 8.99, 11.75]\n",
            "Chicken Bowl                             [16.98, 10.98, 11.25, 8.75, 8.49, 17.5, 32.94,...\n",
            "Chicken Burrito                          [8.49, 10.98, 8.75, 17.5, 11.25, 10.58, 8.19, ...\n",
            "Chicken Crispy Tacos                               [8.75, 17.5, 11.25, 8.49, 10.98, 16.98]\n",
            "Chicken Salad                                                          [10.98, 8.49, 8.19]\n",
            "Chicken Salad Bowl                                               [8.75, 22.5, 17.5, 11.25]\n",
            "Chicken Soft Tacos                          [8.75, 11.25, 8.49, 17.5, 10.98, 16.98, 21.96]\n",
            "Chips                                                              [2.15, 4.3, 6.45, 1.99]\n",
            "Chips and Fresh Tomato Salsa                          [2.39, 2.95, 2.29, 11.8, 5.9, 44.25]\n",
            "Chips and Guacamole                      [4.45, 3.99, 4.0, 8.9, 3.89, 13.35, 7.98, 8.5,...\n",
            "Chips and Mild Fresh Tomato Salsa                                                    [3.0]\n",
            "Chips and Roasted Chili Corn Salsa                                             [2.95, 5.9]\n",
            "Chips and Roasted Chili-Corn Salsa                                                  [2.39]\n",
            "Chips and Tomatillo Green Chili Salsa                                          [2.95, 5.9]\n",
            "Chips and Tomatillo Red Chili Salsa                                            [2.95, 5.9]\n",
            "Chips and Tomatillo-Green Chili Salsa                                         [2.39, 4.78]\n",
            "Chips and Tomatillo-Red Chili Salsa                                     [2.39, 4.78, 7.17]\n",
            "Crispy Tacos                                                                         [7.4]\n",
            "Izze                                                                                [3.39]\n",
            "Nantucket Nectar                                                              [3.39, 6.78]\n",
            "Salad                                                                                [7.4]\n",
            "Side of Chips                                                          [1.69, 5.07, 13.52]\n",
            "Steak Bowl                               [8.99, 11.75, 11.48, 9.25, 11.08, 17.98, 8.69,...\n",
            "Steak Burrito                            [11.75, 9.25, 8.99, 11.48, 17.98, 11.08, 22.16...\n",
            "Steak Crispy Tacos                                        [9.25, 8.99, 8.69, 11.75, 17.98]\n",
            "Steak Salad                                                                   [8.99, 8.69]\n",
            "Steak Salad Bowl                                                      [23.78, 11.89, 9.39]\n",
            "Steak Soft Tacos                                          [9.25, 8.99, 11.75, 11.48, 18.5]\n",
            "Veggie Bowl                                              [11.25, 8.49, 8.75, 16.98, 10.98]\n",
            "Veggie Burrito                                           [11.25, 8.49, 10.98, 8.75, 33.75]\n",
            "Veggie Crispy Tacos                                                                 [8.49]\n",
            "Veggie Salad                                                                        [8.49]\n",
            "Veggie Salad Bowl                                                            [11.25, 8.75]\n",
            "Veggie Soft Tacos                                               [11.25, 8.75, 8.49, 16.98]\n",
            "Name: item_price, dtype: object\n"
          ]
        }
      ],
      "source": [
        "name_price=chipo.groupby('item_name')['item_price'].unique()\n",
        "print(name_price)"
      ]
    },
    {
      "cell_type": "markdown",
      "metadata": {
        "id": "4u3fp7P5peuZ"
      },
      "source": [
        "### Step 6. Sort by the name of the item"
      ]
    },
    {
      "cell_type": "code",
      "execution_count": 13,
      "metadata": {
        "id": "DqB--nCUpeuZ",
        "colab": {
          "base_uri": "https://localhost:8080/"
        },
        "outputId": "0723165b-978e-4f1a-93c0-99174a71b694"
      },
      "outputs": [
        {
          "output_type": "stream",
          "name": "stdout",
          "text": [
            "          quantity                     item_name  \\\n",
            "order_id                                           \n",
            "471              1                 Bottled Water   \n",
            "338              1                   Canned Soda   \n",
            "1575             1                   Canned Soda   \n",
            "47               1                   Canned Soda   \n",
            "1014             1                   Canned Soda   \n",
            "...            ...                           ...   \n",
            "1443             3                Veggie Burrito   \n",
            "1443             4               Chicken Burrito   \n",
            "511              4               Chicken Burrito   \n",
            "1398             3                 Carnitas Bowl   \n",
            "1443            15  Chips and Fresh Tomato Salsa   \n",
            "\n",
            "                                         choice_description  item_price  \n",
            "order_id                                                                 \n",
            "471                                                     NaN        1.09  \n",
            "338                                             [Coca Cola]        1.09  \n",
            "1575                                           [Dr. Pepper]        1.09  \n",
            "47                                             [Dr. Pepper]        1.09  \n",
            "1014                                            [Coca Cola]        1.09  \n",
            "...                                                     ...         ...  \n",
            "1443      [Fresh Tomato Salsa, [Fajita Vegetables, Rice,...       33.75  \n",
            "1443      [Fresh Tomato Salsa, [Rice, Black Beans, Chees...       35.00  \n",
            "511       [Fresh Tomato Salsa, [Fajita Vegetables, Rice,...       35.00  \n",
            "1398      [Roasted Chili Corn Salsa, [Fajita Vegetables,...       35.25  \n",
            "1443                                                    NaN       44.25  \n",
            "\n",
            "[4622 rows x 4 columns]\n"
          ]
        }
      ],
      "source": [
        "sortname=chipo.sort_values(by='item_price')\n",
        "print(sortname)"
      ]
    },
    {
      "cell_type": "markdown",
      "metadata": {
        "id": "CFOvIndGpeua"
      },
      "source": [
        "### Step 7. What was the quantity of the most expensive item ordered?"
      ]
    },
    {
      "cell_type": "code",
      "execution_count": 15,
      "metadata": {
        "id": "lrxcHKUspeua",
        "colab": {
          "base_uri": "https://localhost:8080/"
        },
        "outputId": "bbc3d94f-0bc5-4ec6-ddee-0e3085ac8a0f"
      },
      "outputs": [
        {
          "output_type": "stream",
          "name": "stdout",
          "text": [
            " Quantity of the most expensive item ordered :  15\n"
          ]
        }
      ],
      "source": [
        "most_expensive= chipo[chipo['item_price']==chipo['item_price'].max()]\n",
        "quantity = most_expensive['quantity'].values[0]\n",
        "print(\" Quantity of the most expensive item ordered : \",quantity)"
      ]
    },
    {
      "cell_type": "markdown",
      "metadata": {
        "id": "BxM2MCLepeua"
      },
      "source": [
        "### Step 8. How many times was a Veggie Salad Bowl ordered?"
      ]
    },
    {
      "cell_type": "code",
      "execution_count": 16,
      "metadata": {
        "id": "HZjmL9FKpeua",
        "colab": {
          "base_uri": "https://localhost:8080/"
        },
        "outputId": "40756829-39d0-4ac5-9bb5-2d66b8a00bd6"
      },
      "outputs": [
        {
          "output_type": "stream",
          "name": "stdout",
          "text": [
            " Veggie Salad Bowl was ordered :  18 times\n"
          ]
        }
      ],
      "source": [
        "veggie_ordered=chipo[chipo['item_name'] == 'Veggie Salad Bowl']\n",
        "numbowls=veggie_ordered.shape[0]\n",
        "print(\" Veggie Salad Bowl was ordered : \",numbowls, \"times\")"
      ]
    },
    {
      "cell_type": "markdown",
      "metadata": {
        "id": "58ZIJ7F_peub"
      },
      "source": [
        "### Step 9. How many times did someone order more than one Canned Soda?"
      ]
    },
    {
      "cell_type": "code",
      "execution_count": 17,
      "metadata": {
        "id": "3YmK1V6Kpeub",
        "colab": {
          "base_uri": "https://localhost:8080/"
        },
        "outputId": "393fc5cd-2691-4c66-ab37-ef088a8f2ce5"
      },
      "outputs": [
        {
          "output_type": "stream",
          "name": "stdout",
          "text": [
            "Someone order more than one Canned Soda :  20 times\n"
          ]
        }
      ],
      "source": [
        "cannedsoda = chipo[(chipo['item_name'] == 'Canned Soda') & (chipo['quantity'] >1)]\n",
        "numsoda = cannedsoda.shape[0]\n",
        "print(\"Someone order more than one Canned Soda : \",numsoda, \"times\")"
      ]
    }
  ],
  "metadata": {
    "kernelspec": {
      "display_name": "Python 2",
      "language": "python",
      "name": "python2"
    },
    "language_info": {
      "codemirror_mode": {
        "name": "ipython",
        "version": 2
      },
      "file_extension": ".py",
      "mimetype": "text/x-python",
      "name": "python",
      "nbconvert_exporter": "python",
      "pygments_lexer": "ipython2",
      "version": "2.7.11"
    },
    "colab": {
      "provenance": [],
      "include_colab_link": true
    }
  },
  "nbformat": 4,
  "nbformat_minor": 0
}