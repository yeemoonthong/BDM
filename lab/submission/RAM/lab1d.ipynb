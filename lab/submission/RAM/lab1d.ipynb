{
  "cells": [
    {
      "cell_type": "markdown",
      "metadata": {
        "id": "view-in-github",
        "colab_type": "text"
      },
      "source": [
        "<a href=\"https://colab.research.google.com/github/drshahizan/BDM/blob/main/lab/submission/RAM/lab1d.ipynb\" target=\"_parent\"><img src=\"https://colab.research.google.com/assets/colab-badge.svg\" alt=\"Open In Colab\"/></a>"
      ]
    },
    {
      "cell_type": "markdown",
      "metadata": {
        "id": "DbUFn6qWrYzT"
      },
      "source": [
        "# Lab 1d - Filtering and Sorting Data"
      ]
    },
    {
      "cell_type": "markdown",
      "source": [
        "##Dataset : [**Chipotle Sales dataset**](https://raw.githubusercontent.com/drshahizan/dataset/main/pandas/chipotle.tsv)\n",
        "## Group Name: RAM\n",
        "## Group Members\n",
        "| Name                                     | Matrix Number |\n",
        "| :---------------------------------------- | :-------------: |\n",
        "| Mohammed Raza              |MCS231004      |\n",
        "| Ayaz Rahman Bhuiyan         |MCS231023      |\n",
        "| Musab Ibne Ahmad              |MCS231017      |\n",
        "| Hussein Yusuf Sheikh Mohamed   | MCS231024       |\n"
      ],
      "metadata": {
        "id": "J5qzJTMNXdJ8"
      }
    },
    {
      "cell_type": "markdown",
      "metadata": {
        "id": "1XS5Z9uYrYzX"
      },
      "source": [
        "### Step 1. Import the necessary libraries"
      ]
    },
    {
      "cell_type": "code",
      "execution_count": null,
      "metadata": {
        "id": "adzwYi3erYzY"
      },
      "outputs": [],
      "source": [
        "import pandas\n"
      ]
    },
    {
      "cell_type": "markdown",
      "metadata": {
        "id": "2arcKeufrYzY"
      },
      "source": [
        "### Step 2. Import the dataset from this [address](https://raw.githubusercontent.com/justmarkham/DAT8/master/data/chipotle.tsv)."
      ]
    },
    {
      "cell_type": "code",
      "source": [
        "path = \"https://raw.githubusercontent.com/drshahizan/dataset/main/pandas/chipotle.tsv\"\n"
      ],
      "metadata": {
        "id": "R3nypwv9qzyY"
      },
      "execution_count": null,
      "outputs": []
    },
    {
      "cell_type": "markdown",
      "metadata": {
        "id": "OwqFr96GrYzZ"
      },
      "source": [
        "### Step 3. Assign it to a variable called chipo."
      ]
    },
    {
      "cell_type": "code",
      "execution_count": null,
      "metadata": {
        "id": "jjbT0cinrYza"
      },
      "outputs": [],
      "source": [
        "chipo = pandas.read_csv(path,sep=\"\\t\")\n"
      ]
    },
    {
      "cell_type": "markdown",
      "metadata": {
        "id": "l9UD16fCrYza"
      },
      "source": [
        "### Step 4. How many products cost more than $10.00?"
      ]
    },
    {
      "cell_type": "code",
      "execution_count": null,
      "metadata": {
        "id": "LdF7GEWUrYza",
        "outputId": "63728086-e1fd-4cc8-f990-7f34c8ef50d0",
        "colab": {
          "base_uri": "https://localhost:8080/"
        }
      },
      "outputs": [
        {
          "output_type": "stream",
          "name": "stdout",
          "text": [
            "The number of products that cost more than $10.00 is: 1130\n"
          ]
        }
      ],
      "source": [
        "chipo['item_price'] = chipo['item_price'].apply(lambda x: float(x[1:]))\n",
        "expensive_products = chipo[chipo['item_price'] > 10.00]\n",
        "count_expensive_products = len(expensive_products)\n",
        "print(f'The number of products that cost more than $10.00 is: {count_expensive_products}')"
      ]
    },
    {
      "cell_type": "markdown",
      "metadata": {
        "id": "O96ibYLKrYzb"
      },
      "source": [
        "### Step 5. What is the price of each item?\n",
        "###### print a data frame with only two columns item_name and item_price"
      ]
    },
    {
      "cell_type": "code",
      "execution_count": null,
      "metadata": {
        "id": "2Ucd03fgrYzb",
        "outputId": "d66cd369-9779-40d1-dc4c-0c357ae13016",
        "colab": {
          "base_uri": "https://localhost:8080/"
        }
      },
      "outputs": [
        {
          "output_type": "stream",
          "name": "stdout",
          "text": [
            "                                  item_name  item_price\n",
            "0              Chips and Fresh Tomato Salsa        2.39\n",
            "1                                      Izze        3.39\n",
            "2                          Nantucket Nectar        3.39\n",
            "3     Chips and Tomatillo-Green Chili Salsa        2.39\n",
            "4                              Chicken Bowl       16.98\n",
            "...                                     ...         ...\n",
            "4617                          Steak Burrito       11.75\n",
            "4618                          Steak Burrito       11.75\n",
            "4619                     Chicken Salad Bowl       11.25\n",
            "4620                     Chicken Salad Bowl        8.75\n",
            "4621                     Chicken Salad Bowl        8.75\n",
            "\n",
            "[4622 rows x 2 columns]\n"
          ]
        }
      ],
      "source": [
        "selected_columns = chipo[['item_name', 'item_price']]\n",
        "print(selected_columns)"
      ]
    },
    {
      "cell_type": "markdown",
      "metadata": {
        "id": "yiSTjn2prYzc"
      },
      "source": [
        "### Step 6. Sort by the name of the item"
      ]
    },
    {
      "cell_type": "code",
      "execution_count": null,
      "metadata": {
        "id": "NxybyDNfrYzc",
        "outputId": "602aee2e-e99e-473d-874f-1926384fd68f",
        "colab": {
          "base_uri": "https://localhost:8080/"
        }
      },
      "outputs": [
        {
          "output_type": "stream",
          "name": "stdout",
          "text": [
            "      order_id  quantity          item_name  \\\n",
            "3389      1360         2  6 Pack Soft Drink   \n",
            "341        148         1  6 Pack Soft Drink   \n",
            "1849       749         1  6 Pack Soft Drink   \n",
            "1860       754         1  6 Pack Soft Drink   \n",
            "2713      1076         1  6 Pack Soft Drink   \n",
            "...        ...       ...                ...   \n",
            "2384       948         1  Veggie Soft Tacos   \n",
            "781        322         1  Veggie Soft Tacos   \n",
            "2851      1132         1  Veggie Soft Tacos   \n",
            "1699       688         1  Veggie Soft Tacos   \n",
            "1395       567         1  Veggie Soft Tacos   \n",
            "\n",
            "                                     choice_description  item_price  \n",
            "3389                                        [Diet Coke]       12.98  \n",
            "341                                         [Diet Coke]        6.49  \n",
            "1849                                             [Coke]        6.49  \n",
            "1860                                        [Diet Coke]        6.49  \n",
            "2713                                             [Coke]        6.49  \n",
            "...                                                 ...         ...  \n",
            "2384  [Roasted Chili Corn Salsa, [Fajita Vegetables,...        8.75  \n",
            "781   [Fresh Tomato Salsa, [Black Beans, Cheese, Sou...        8.75  \n",
            "2851  [Roasted Chili Corn Salsa (Medium), [Black Bea...        8.49  \n",
            "1699  [Fresh Tomato Salsa, [Fajita Vegetables, Rice,...       11.25  \n",
            "1395  [Fresh Tomato Salsa (Mild), [Pinto Beans, Rice...        8.49  \n",
            "\n",
            "[4622 rows x 5 columns]\n"
          ]
        }
      ],
      "source": [
        "chipo = chipo.sort_values(by='item_name')\n",
        "print(chipo)"
      ]
    },
    {
      "cell_type": "markdown",
      "metadata": {
        "id": "OFmdEqSxrYzc"
      },
      "source": [
        "### Step 7. What was the quantity of the most expensive item ordered?"
      ]
    },
    {
      "cell_type": "code",
      "execution_count": null,
      "metadata": {
        "id": "ontVsEM9rYzc",
        "outputId": "988c34da-a675-4596-a4c2-b15974c19918",
        "colab": {
          "base_uri": "https://localhost:8080/"
        }
      },
      "outputs": [
        {
          "output_type": "stream",
          "name": "stdout",
          "text": [
            "The quantity of the most expensive item ordered is: 15\n"
          ]
        }
      ],
      "source": [
        "chipo['total_price'] = chipo['quantity'] * chipo['item_price']\n",
        "most_expensive_item = chipo.loc[chipo['total_price'].idxmax()]\n",
        "quantity_of_most_expensive_item = most_expensive_item['quantity']\n",
        "print(f'The quantity of the most expensive item ordered is: {quantity_of_most_expensive_item}')"
      ]
    },
    {
      "cell_type": "markdown",
      "metadata": {
        "id": "nphV3PWYrYzd"
      },
      "source": [
        "### Step 8. How many times was a Veggie Salad Bowl ordered?"
      ]
    },
    {
      "cell_type": "code",
      "execution_count": null,
      "metadata": {
        "id": "1QoBMEYbrYzd",
        "outputId": "037dc607-c224-424c-98fc-9d03b2ffe041",
        "colab": {
          "base_uri": "https://localhost:8080/"
        }
      },
      "outputs": [
        {
          "output_type": "stream",
          "name": "stdout",
          "text": [
            "The number of times \"Veggie Salad Bowl\" was ordered is: 18\n"
          ]
        }
      ],
      "source": [
        "veggie_salad_bowl_orders = chipo[chipo['item_name'] == \"Veggie Salad Bowl\"]\n",
        "count_veggie_salad_bowl = len(veggie_salad_bowl_orders)\n",
        "print(f'The number of times \"Veggie Salad Bowl\" was ordered is: {count_veggie_salad_bowl}')"
      ]
    },
    {
      "cell_type": "markdown",
      "metadata": {
        "id": "T6OLORbBrYzd"
      },
      "source": [
        "### Step 9. How many times did someone order more than one Canned Soda?"
      ]
    },
    {
      "cell_type": "code",
      "execution_count": null,
      "metadata": {
        "id": "thbQhRWurYze",
        "outputId": "c93684df-ae1a-4b75-f64f-2d4fb28a9147",
        "colab": {
          "base_uri": "https://localhost:8080/"
        }
      },
      "outputs": [
        {
          "output_type": "stream",
          "name": "stdout",
          "text": [
            "The number of times someone ordered more than one \"Canned Soda\" is: 20\n"
          ]
        }
      ],
      "source": [
        "canned_soda_orders = chipo[(chipo['item_name'] == \"Canned Soda\") & (chipo['quantity'] > 1)]\n",
        "count_multiple_canned_soda = len(canned_soda_orders)\n",
        "print(f'The number of times someone ordered more than one \"Canned Soda\" is: {count_multiple_canned_soda}')"
      ]
    }
  ],
  "metadata": {
    "kernelspec": {
      "display_name": "Python 2",
      "language": "python",
      "name": "python2"
    },
    "language_info": {
      "codemirror_mode": {
        "name": "ipython",
        "version": 2
      },
      "file_extension": ".py",
      "mimetype": "text/x-python",
      "name": "python",
      "nbconvert_exporter": "python",
      "pygments_lexer": "ipython2",
      "version": "2.7.11"
    },
    "colab": {
      "provenance": [],
      "include_colab_link": true
    }
  },
  "nbformat": 4,
  "nbformat_minor": 0
}