{
  "nbformat": 4,
  "nbformat_minor": 0,
  "metadata": {
    "colab": {
      "provenance": [],
      "toc_visible": true,
      "authorship_tag": "ABX9TyOVu/lQJcWSAZF1YLz1A+5S",
      "include_colab_link": true
    },
    "kernelspec": {
      "name": "python3",
      "display_name": "Python 3"
    },
    "language_info": {
      "name": "python"
    }
  },
  "cells": [
    {
      "cell_type": "markdown",
      "metadata": {
        "id": "view-in-github",
        "colab_type": "text"
      },
      "source": [
        "<a href=\"https://colab.research.google.com/github/yeemoonthong/BDM/blob/main/exercise/yeemoonthong/Hello_World.ipynb\" target=\"_parent\"><img src=\"https://colab.research.google.com/assets/colab-badge.svg\" alt=\"Open In Colab\"/></a>"
      ]
    },
    {
      "cell_type": "code",
      "execution_count": null,
      "metadata": {
        "id": "FUXtmqkqQEY7"
      },
      "outputs": [],
      "source": []
    },
    {
      "cell_type": "markdown",
      "source": [
        "# Hello World\n",
        "## Hello World\n",
        "### Hello World\n",
        "#### Hello World"
      ],
      "metadata": {
        "id": "3WD4D1csQIMC"
      }
    },
    {
      "cell_type": "markdown",
      "source": [
        "# My Info\n",
        "Name = Thong Yee Moon\n",
        "\n",
        "Nickname = Yvonne\n",
        "\n",
        "Age = 26\n"
      ],
      "metadata": {
        "id": "q5MAwUQ_QcqJ"
      }
    },
    {
      "cell_type": "code",
      "source": [
        "import pandas as pd"
      ],
      "metadata": {
        "id": "lQWina8DQ4CV"
      },
      "execution_count": 1,
      "outputs": []
    }
  ]
}