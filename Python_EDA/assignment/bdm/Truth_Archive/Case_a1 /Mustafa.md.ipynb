{
  "nbformat": 4,
  "nbformat_minor": 0,
  "metadata": {
    "colab": {
      "provenance": [],
      "authorship_tag": "ABX9TyOkzVffOsIV/XNe3n1lAzqG",
      "include_colab_link": true
    },
    "kernelspec": {
      "name": "python3",
      "display_name": "Python 3"
    },
    "language_info": {
      "name": "python"
    }
  },
  "cells": [
    {
      "cell_type": "markdown",
      "metadata": {
        "id": "view-in-github",
        "colab_type": "text"
      },
      "source": [
        "<a href=\"https://colab.research.google.com/github/drshahizan/BDM/blob/main/Python_EDA/assignment/bdm/Truth_Archive/Case_a1%20/Mustafa.md.ipynb\" target=\"_parent\"><img src=\"https://colab.research.google.com/assets/colab-badge.svg\" alt=\"Open In Colab\"/></a>"
      ]
    },
    {
      "cell_type": "code",
      "execution_count": 4,
      "metadata": {
        "id": "HOOYr8VttbJX"
      },
      "outputs": [],
      "source": [
        "import json\n",
        "import requests\n",
        "\n",
        "url = 'https://raw.githubusercontent.com/drshahizan/Python_EDA/main/assignment/Assignment_EDA.ipynb'\n",
        "response = requests.get(url)\n",
        "notebook = json.loads(response.text)\n",
        "\n",
        "# Now, notebook is a dictionary containing the contents of the Jupyter notebook.\n"
      ]
    }
  ]
}